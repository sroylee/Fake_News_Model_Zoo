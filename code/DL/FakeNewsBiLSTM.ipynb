{
  "nbformat": 4,
  "nbformat_minor": 0,
  "metadata": {
    "colab": {
      "name": "FakeNewsBiLSTM.ipynb",
      "provenance": [],
      "collapsed_sections": [],
      "machine_shape": "hm"
    },
    "kernelspec": {
      "name": "python3",
      "display_name": "Python 3"
    },
    "accelerator": "GPU"
  },
  "cells": [
    {
      "cell_type": "markdown",
      "metadata": {
        "id": "fUgnOavwrlwH",
        "colab_type": "text"
      },
      "source": [
        "CNN for Fake News classification"
      ]
    },
    {
      "cell_type": "markdown",
      "metadata": {
        "id": "HiGRClfQGqBV",
        "colab_type": "text"
      },
      "source": [
        "# Importing general usage tools"
      ]
    },
    {
      "cell_type": "code",
      "metadata": {
        "id": "_KkLm-ZG66jS",
        "colab_type": "code",
        "colab": {
          "base_uri": "https://localhost:8080/",
          "height": 81
        },
        "outputId": "531a764a-04df-4407-ac87-ed02faf35162"
      },
      "source": [
        "from keras.models import Sequential\n",
        "from keras import layers\n",
        "from keras.layers import Convolution2D,Dense,MaxPooling2D,Flatten,LSTM,Bidirectional\n",
        "from keras import regularizers\n",
        "from keras.preprocessing.sequence import pad_sequences\n",
        "from keras.preprocessing.text import Tokenizer\n",
        "import pandas as pd\n",
        "import numpy as np"
      ],
      "execution_count": 2,
      "outputs": [
        {
          "output_type": "stream",
          "text": [
            "Using TensorFlow backend.\n"
          ],
          "name": "stderr"
        },
        {
          "output_type": "display_data",
          "data": {
            "text/html": [
              "<p style=\"color: red;\">\n",
              "The default version of TensorFlow in Colab will soon switch to TensorFlow 2.x.<br>\n",
              "We recommend you <a href=\"https://www.tensorflow.org/guide/migrate\" target=\"_blank\">upgrade</a> now \n",
              "or ensure your notebook will continue to use TensorFlow 1.x via the <code>%tensorflow_version 1.x</code> magic:\n",
              "<a href=\"https://colab.research.google.com/notebooks/tensorflow_version.ipynb\" target=\"_blank\">more info</a>.</p>\n"
            ],
            "text/plain": [
              "<IPython.core.display.HTML object>"
            ]
          },
          "metadata": {
            "tags": []
          }
        }
      ]
    },
    {
      "cell_type": "markdown",
      "metadata": {
        "id": "PTTszcqLGzJm",
        "colab_type": "text"
      },
      "source": [
        "# Hyperparameter Adjustment"
      ]
    },
    {
      "cell_type": "code",
      "metadata": {
        "id": "bj-uAiThKMXt",
        "colab_type": "code",
        "colab": {}
      },
      "source": [
        "# parameter adjustments for fake news\n",
        "maxlen = 100\n",
        "max_features = 50000\n",
        "train_glove = True   # Turn on/off for trainnable glove"
      ],
      "execution_count": 0,
      "outputs": []
    },
    {
      "cell_type": "markdown",
      "metadata": {
        "id": "veIXARQcGjMf",
        "colab_type": "text"
      },
      "source": [
        "# Reading in the dataset"
      ]
    },
    {
      "cell_type": "code",
      "metadata": {
        "id": "pXgA_mlf8R0I",
        "colab_type": "code",
        "colab": {}
      },
      "source": [
        "# Reading files\n",
        "import re\n",
        "train = pd.read_csv(\"/content/drive/My Drive/cmpt400/dataset/train.csv\")\n",
        "valid = pd.read_csv(\"/content/drive/My Drive/cmpt400/dataset/valid.csv\")\n",
        "test = pd.read_csv(\"/content/drive/My Drive/cmpt400/dataset/test.csv\")\n",
        "\n",
        "train['news'] = train['news'].apply(lambda elem: re.sub(r\"(@[A-Za-z0-9]+)|([^0-9A-Za-z \\t])|(\\w+:\\/\\/\\S+)|^rt|http.+?\", \"\", elem))\n",
        "valid['news'] = valid['news'].apply(lambda elem: re.sub(r\"(@[A-Za-z0-9]+)|([^0-9A-Za-z \\t])|(\\w+:\\/\\/\\S+)|^rt|http.+?\", \"\", elem))\n",
        "test['news'] = test['news'].apply(lambda elem: re.sub(r\"(@[A-Za-z0-9]+)|([^0-9A-Za-z \\t])|(\\w+:\\/\\/\\S+)|^rt|http.+?\", \"\", elem))"
      ],
      "execution_count": 0,
      "outputs": []
    },
    {
      "cell_type": "code",
      "metadata": {
        "id": "4155G07jfIe1",
        "colab_type": "code",
        "outputId": "c35983c6-216a-4fbe-f140-8ec0162c0234",
        "colab": {
          "base_uri": "https://localhost:8080/",
          "height": 52
        }
      },
      "source": [
        "tokenizer = Tokenizer(num_words=max_features)\n",
        "tokenizer.fit_on_texts(train['news'])\n",
        "\n",
        "# tokenize text \n",
        "X_train = tokenizer.texts_to_sequences(train['news'])\n",
        "X_valid = tokenizer.texts_to_sequences(valid['news'])\n",
        "X_test = tokenizer.texts_to_sequences(test['news'])\n",
        "\n",
        "# turn categories into integer representation\n",
        "y_train = pd.factorize(train['label'])[0]+1\n",
        "y_valid = pd.factorize(valid['label'])[0]+1\n",
        "y_test = pd.factorize(test['label'])[0]+1\n",
        "\n",
        "#calculate the total vocabulary size\n",
        "vocab_size = len(tokenizer.word_index) + 1  # Adding 1 because of reserved 0 index\n",
        "\n",
        "# pad each news to maxlen\n",
        "X_train = pad_sequences(X_train, maxlen=maxlen)\n",
        "X_valid = pad_sequences(X_valid, maxlen=maxlen)\n",
        "X_test = pad_sequences(X_test, maxlen=maxlen)\n",
        "\n",
        "n_timesteps, n_features = X_train.shape[0], X_train.shape[1]\n",
        "print(n_timesteps)\n",
        "print(n_features)"
      ],
      "execution_count": 5,
      "outputs": [
        {
          "output_type": "stream",
          "text": [
            "10240\n",
            "100\n"
          ],
          "name": "stdout"
        }
      ]
    },
    {
      "cell_type": "markdown",
      "metadata": {
        "id": "MldFzj-THDq1",
        "colab_type": "text"
      },
      "source": [
        "# Plotting Graph Helper Function"
      ]
    },
    {
      "cell_type": "code",
      "metadata": {
        "id": "wmDZqr8ReI8T",
        "colab_type": "code",
        "colab": {}
      },
      "source": [
        "# Plotting graph from results\n",
        "import matplotlib.pyplot as plt\n",
        "plt.style.use('ggplot')\n",
        "\n",
        "def plot_history(history):\n",
        "  acc = history.history['acc']\n",
        "  val_acc = history.history['val_acc']\n",
        "  loss = history.history['loss']\n",
        "  val_loss = history.history['val_loss']\n",
        "  x = range(1, len(acc) + 1)\n",
        "\n",
        "  plt.figure(figsize=(12, 5))\n",
        "  plt.subplot(1, 2, 1)\n",
        "  plt.plot(x, acc, 'b', label='Training acc')\n",
        "  plt.plot(x, val_acc, 'r', label='Validation acc')\n",
        "  plt.title('Training and validation accuracy')\n",
        "  plt.legend()\n",
        "  plt.subplot(1, 2, 2)\n",
        "  plt.plot(x, loss, 'b', label='Training loss')\n",
        "  plt.plot(x, val_loss, 'r', label='Validation loss')\n",
        "  plt.title('Training and validation loss')\n",
        "  plt.legend()"
      ],
      "execution_count": 0,
      "outputs": []
    },
    {
      "cell_type": "markdown",
      "metadata": {
        "id": "M7Dt1gxqrh8J",
        "colab_type": "text"
      },
      "source": [
        "# Read in glove file\n"
      ]
    },
    {
      "cell_type": "code",
      "metadata": {
        "id": "Q-6gEVTgY-mk",
        "colab_type": "code",
        "colab": {}
      },
      "source": [
        "def txt_create_embedding_matrix(filepath, word_index, embedding_dim):\n",
        "    vocab_size = len(word_index) + 1  # Adding again 1 because of reserved 0 index\n",
        "    embedding_matrix = np.zeros((vocab_size, embedding_dim))\n",
        "\n",
        "    with open(filepath) as f:\n",
        "        for line in f:\n",
        "            word, *vector = line.split()\n",
        "            if word in word_index:\n",
        "                idx = word_index[word] \n",
        "                embedding_matrix[idx] = np.array(\n",
        "                    vector, dtype=np.float32)[:embedding_dim]\n",
        "\n",
        "    return embedding_matrix"
      ],
      "execution_count": 0,
      "outputs": []
    },
    {
      "cell_type": "code",
      "metadata": {
        "id": "VlGtNpzFGrud",
        "colab_type": "code",
        "colab": {}
      },
      "source": [
        "import numpy as np\n",
        "from gensim.models import KeyedVectors\n",
        "def bin_create_embedding_matrix(filepath,word_index,embedding_dim):\n",
        "  vocab_size = len(word_index) + 1  # Adding again 1 because of reserved 0 index\n",
        "  # embedding_matrix = np.zeros((vocab_size, embedding_dim))\n",
        "  # calculate how many word will be used\n",
        "  num_words = min(max_features,vocab_size)\n",
        "  # get a random matrix\n",
        "  embedding_matrix = (np.random.rand(num_words, embedding_dim) - 0.5) / 5.0\n",
        "  embeddings_index = KeyedVectors.load_word2vec_format(filepath, binary=True)\n",
        "\n",
        "  for word, i in word_index.items():\n",
        "    if i >= max_features: continue\n",
        "    if word in embeddings_index:\n",
        "      embeddings_vector = embeddings_index.get_vector(word)\n",
        "      embedding_matrix[i] = embeddings_vector\n",
        "  return embedding_matrix"
      ],
      "execution_count": 0,
      "outputs": []
    },
    {
      "cell_type": "code",
      "metadata": {
        "id": "0Pe8Rx8QeI6r",
        "colab_type": "code",
        "outputId": "f72d4f08-181a-4b57-c87f-731ba951549c",
        "colab": {
          "base_uri": "https://localhost:8080/",
          "height": 90
        }
      },
      "source": [
        "#created the glove matrix\n",
        "embedding_dim = 300\n",
        "filepath_news = '/content/drive/My Drive/cmpt400/dataset/GoogleNews-vectors-negative300.bin'\n",
        "filepath_6b = '/content/drive/My Drive/cmpt400/dataset/glove.6B.50d.txt'\n",
        "embedding_matrix = bin_create_embedding_matrix(filepath_news,tokenizer.word_index, embedding_dim)\n",
        "print(len(embedding_matrix))"
      ],
      "execution_count": 9,
      "outputs": [
        {
          "output_type": "stream",
          "text": [
            "/usr/local/lib/python3.6/dist-packages/smart_open/smart_open_lib.py:402: UserWarning: This function is deprecated, use smart_open.open instead. See the migration notes for details: https://github.com/RaRe-Technologies/smart_open/blob/master/README.rst#migrating-to-the-new-open-function\n",
            "  'See the migration notes for details: %s' % _MIGRATION_NOTES_URL\n"
          ],
          "name": "stderr"
        },
        {
          "output_type": "stream",
          "text": [
            "13402\n"
          ],
          "name": "stdout"
        }
      ]
    },
    {
      "cell_type": "code",
      "metadata": {
        "id": "tol7DB0GZuLk",
        "colab_type": "code",
        "outputId": "2c103204-cc6d-4997-c965-b1c6b27ee5a4",
        "colab": {
          "base_uri": "https://localhost:8080/",
          "height": 34
        }
      },
      "source": [
        "# 93% coverage for the glove matrix, not bad\n",
        "nonzero_elements = np.count_nonzero(np.count_nonzero(embedding_matrix, axis=1))\n",
        "print(nonzero_elements / vocab_size)"
      ],
      "execution_count": 10,
      "outputs": [
        {
          "output_type": "stream",
          "text": [
            "1.0\n"
          ],
          "name": "stdout"
        }
      ]
    },
    {
      "cell_type": "markdown",
      "metadata": {
        "id": "8NVXHtoMGYSo",
        "colab_type": "text"
      },
      "source": [
        "# Creating Model\n"
      ]
    },
    {
      "cell_type": "code",
      "metadata": {
        "id": "sJUMOrG3fIpC",
        "colab_type": "code",
        "outputId": "a16ccae9-365e-4a4f-fae9-49f39e4f16a2",
        "colab": {
          "base_uri": "https://localhost:8080/",
          "height": 1000
        }
      },
      "source": [
        "from keras.optimizers import Adam\n",
        "from keras.optimizers import SGD\n",
        "from keras.optimizers import RMSprop\n",
        "from keras.layers import Convolution2D,Dense,MaxPooling2D,Flatten,LSTM,Bidirectional,Dropout,CuDNNLSTM\n",
        "from keras.losses import categorical_crossentropy\n",
        "from keras.losses import sparse_categorical_crossentropy\n",
        "train_glove = True\n",
        "\n",
        "model = Sequential()\n",
        "model.add(layers.Embedding(vocab_size, embedding_dim,weights=[embedding_matrix], input_length=maxlen,trainable=train_glove))\n",
        "\n",
        "# initialising the RNN\n",
        "# number of units-memory units, complex problem requir more nerons.\n",
        "# return sequence-mutiple LSM layers, set to True to receive values. Default value is False\n",
        "# dimensions-it takes in count of original dataset. This case only include timestep and indicators.\n",
        "\n",
        "# First LSTM layer\n",
        "model.add(Bidirectional(CuDNNLSTM(units = 40,return_sequences = True, input_shape=(n_timesteps,n_features))))\n",
        "model.add(Dropout(0.4))\n",
        "\n",
        "# Second LSTM layer\n",
        "model.add(Bidirectional(CuDNNLSTM(units = 40,return_sequences = True)))\n",
        "model.add(Dropout(0.4))\n",
        "\n",
        "# # Third LSTM layer\n",
        "model.add(Bidirectional(CuDNNLSTM(units = 40,return_sequences = True)))\n",
        "model.add(Dropout(0.4))\n",
        "\n",
        "# Fourth LSTM layer, last layer no need to return, use default return sequence value false.\n",
        "model.add(Bidirectional(CuDNNLSTM(units = 40)))\n",
        "model.add(Dropout(0.4))\n",
        "\n",
        "model.add(layers.Dense(7, activation='softmax'))\n",
        "model.compile(optimizer=RMSprop(lr=0.001),loss=sparse_categorical_crossentropy,metrics=['accuracy'],)     # 0.001 seems to give the best output\n",
        "model.summary()"
      ],
      "execution_count": 11,
      "outputs": [
        {
          "output_type": "stream",
          "text": [
            "WARNING:tensorflow:From /usr/local/lib/python3.6/dist-packages/keras/backend/tensorflow_backend.py:66: The name tf.get_default_graph is deprecated. Please use tf.compat.v1.get_default_graph instead.\n",
            "\n",
            "WARNING:tensorflow:From /usr/local/lib/python3.6/dist-packages/keras/backend/tensorflow_backend.py:541: The name tf.placeholder is deprecated. Please use tf.compat.v1.placeholder instead.\n",
            "\n",
            "WARNING:tensorflow:From /usr/local/lib/python3.6/dist-packages/keras/backend/tensorflow_backend.py:4432: The name tf.random_uniform is deprecated. Please use tf.random.uniform instead.\n",
            "\n",
            "WARNING:tensorflow:From /usr/local/lib/python3.6/dist-packages/keras/backend/tensorflow_backend.py:190: The name tf.get_default_session is deprecated. Please use tf.compat.v1.get_default_session instead.\n",
            "\n",
            "WARNING:tensorflow:From /usr/local/lib/python3.6/dist-packages/keras/backend/tensorflow_backend.py:197: The name tf.ConfigProto is deprecated. Please use tf.compat.v1.ConfigProto instead.\n",
            "\n",
            "WARNING:tensorflow:From /usr/local/lib/python3.6/dist-packages/keras/backend/tensorflow_backend.py:203: The name tf.Session is deprecated. Please use tf.compat.v1.Session instead.\n",
            "\n",
            "WARNING:tensorflow:From /usr/local/lib/python3.6/dist-packages/keras/backend/tensorflow_backend.py:207: The name tf.global_variables is deprecated. Please use tf.compat.v1.global_variables instead.\n",
            "\n",
            "WARNING:tensorflow:From /usr/local/lib/python3.6/dist-packages/keras/backend/tensorflow_backend.py:216: The name tf.is_variable_initialized is deprecated. Please use tf.compat.v1.is_variable_initialized instead.\n",
            "\n",
            "WARNING:tensorflow:From /usr/local/lib/python3.6/dist-packages/keras/backend/tensorflow_backend.py:223: The name tf.variables_initializer is deprecated. Please use tf.compat.v1.variables_initializer instead.\n",
            "\n",
            "WARNING:tensorflow:From /usr/local/lib/python3.6/dist-packages/keras/backend/tensorflow_backend.py:148: The name tf.placeholder_with_default is deprecated. Please use tf.compat.v1.placeholder_with_default instead.\n",
            "\n",
            "WARNING:tensorflow:From /usr/local/lib/python3.6/dist-packages/keras/backend/tensorflow_backend.py:3733: calling dropout (from tensorflow.python.ops.nn_ops) with keep_prob is deprecated and will be removed in a future version.\n",
            "Instructions for updating:\n",
            "Please use `rate` instead of `keep_prob`. Rate should be set to `rate = 1 - keep_prob`.\n",
            "WARNING:tensorflow:From /usr/local/lib/python3.6/dist-packages/keras/optimizers.py:793: The name tf.train.Optimizer is deprecated. Please use tf.compat.v1.train.Optimizer instead.\n",
            "\n",
            "WARNING:tensorflow:From /usr/local/lib/python3.6/dist-packages/keras/backend/tensorflow_backend.py:3622: The name tf.log is deprecated. Please use tf.math.log instead.\n",
            "\n",
            "Model: \"sequential_1\"\n",
            "_________________________________________________________________\n",
            "Layer (type)                 Output Shape              Param #   \n",
            "=================================================================\n",
            "embedding_1 (Embedding)      (None, 100, 300)          4020600   \n",
            "_________________________________________________________________\n",
            "bidirectional_1 (Bidirection (None, 100, 80)           109440    \n",
            "_________________________________________________________________\n",
            "dropout_1 (Dropout)          (None, 100, 80)           0         \n",
            "_________________________________________________________________\n",
            "bidirectional_2 (Bidirection (None, 100, 80)           39040     \n",
            "_________________________________________________________________\n",
            "dropout_2 (Dropout)          (None, 100, 80)           0         \n",
            "_________________________________________________________________\n",
            "bidirectional_3 (Bidirection (None, 100, 80)           39040     \n",
            "_________________________________________________________________\n",
            "dropout_3 (Dropout)          (None, 100, 80)           0         \n",
            "_________________________________________________________________\n",
            "bidirectional_4 (Bidirection (None, 80)                39040     \n",
            "_________________________________________________________________\n",
            "dropout_4 (Dropout)          (None, 80)                0         \n",
            "_________________________________________________________________\n",
            "dense_1 (Dense)              (None, 7)                 567       \n",
            "=================================================================\n",
            "Total params: 4,247,727\n",
            "Trainable params: 4,247,727\n",
            "Non-trainable params: 0\n",
            "_________________________________________________________________\n"
          ],
          "name": "stdout"
        }
      ]
    },
    {
      "cell_type": "markdown",
      "metadata": {
        "id": "-1XaqKZkG7qu",
        "colab_type": "text"
      },
      "source": [
        "# Predicting"
      ]
    },
    {
      "cell_type": "code",
      "metadata": {
        "id": "OnNwmatwfIxa",
        "colab_type": "code",
        "outputId": "a890b273-e27e-440b-ac34-dbd5ec735803",
        "colab": {
          "base_uri": "https://localhost:8080/",
          "height": 885
        }
      },
      "source": [
        "history = model.fit(X_train, y_train, epochs=10, verbose=1, validation_data=(X_valid, y_valid),batch_size=64)\n",
        "loss, accuracy = model.evaluate(X_train, y_train, verbose=2)\n",
        "print(\"Training Accuracy: {:.4f}\".format(accuracy))\n",
        "loss, accuracy = model.evaluate(X_test, y_test, verbose=2)\n",
        "print(\"Testing Accuracy:  {:.4f}\".format(accuracy))\n",
        "plot_history(history)"
      ],
      "execution_count": 12,
      "outputs": [
        {
          "output_type": "stream",
          "text": [
            "WARNING:tensorflow:From /usr/local/lib/python3.6/dist-packages/tensorflow_core/python/ops/math_grad.py:1424: where (from tensorflow.python.ops.array_ops) is deprecated and will be removed in a future version.\n",
            "Instructions for updating:\n",
            "Use tf.where in 2.0, which has the same broadcast rule as np.where\n",
            "WARNING:tensorflow:From /usr/local/lib/python3.6/dist-packages/keras/backend/tensorflow_backend.py:1033: The name tf.assign_add is deprecated. Please use tf.compat.v1.assign_add instead.\n",
            "\n",
            "WARNING:tensorflow:From /usr/local/lib/python3.6/dist-packages/keras/backend/tensorflow_backend.py:1020: The name tf.assign is deprecated. Please use tf.compat.v1.assign instead.\n",
            "\n",
            "Train on 10240 samples, validate on 1284 samples\n",
            "Epoch 1/10\n",
            "10240/10240 [==============================] - 13s 1ms/step - loss: 1.7784 - acc: 0.2062 - val_loss: 1.9980 - val_acc: 0.0981\n",
            "Epoch 2/10\n",
            "10240/10240 [==============================] - 6s 625us/step - loss: 1.6979 - acc: 0.2629 - val_loss: 2.0669 - val_acc: 0.1542\n",
            "Epoch 3/10\n",
            "10240/10240 [==============================] - 6s 623us/step - loss: 1.6003 - acc: 0.3256 - val_loss: 2.2635 - val_acc: 0.1254\n",
            "Epoch 4/10\n",
            "10240/10240 [==============================] - 6s 624us/step - loss: 1.4678 - acc: 0.4112 - val_loss: 2.3456 - val_acc: 0.1371\n",
            "Epoch 5/10\n",
            "10240/10240 [==============================] - 6s 622us/step - loss: 1.3265 - acc: 0.4878 - val_loss: 2.5395 - val_acc: 0.1184\n",
            "Epoch 6/10\n",
            "10240/10240 [==============================] - 6s 622us/step - loss: 1.1751 - acc: 0.5691 - val_loss: 2.7053 - val_acc: 0.1449\n",
            "Epoch 7/10\n",
            "10240/10240 [==============================] - 6s 624us/step - loss: 1.0222 - acc: 0.6406 - val_loss: 2.9880 - val_acc: 0.1106\n",
            "Epoch 8/10\n",
            "10240/10240 [==============================] - 6s 625us/step - loss: 0.8949 - acc: 0.6961 - val_loss: 3.0725 - val_acc: 0.1433\n",
            "Epoch 9/10\n",
            "10240/10240 [==============================] - 6s 621us/step - loss: 0.7785 - acc: 0.7461 - val_loss: 3.4817 - val_acc: 0.1449\n",
            "Epoch 10/10\n",
            "10240/10240 [==============================] - 6s 623us/step - loss: 0.6699 - acc: 0.7868 - val_loss: 3.5986 - val_acc: 0.1379\n",
            "Training Accuracy: 0.8576\n",
            "Testing Accuracy:  0.1531\n"
          ],
          "name": "stdout"
        },
        {
          "output_type": "display_data",
          "data": {
            "image/png": "[encoded data removed]",
            "text/plain": [
              "<Figure size 864x360 with 2 Axes>"
            ]
          },
          "metadata": {
            "tags": []
          }
        }
      ]
    }
  ]
}