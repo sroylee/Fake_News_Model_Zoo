{
  "nbformat": 4,
  "nbformat_minor": 0,
  "metadata": {
    "colab": {
      "name": "FakeNewsCNN.ipynb",
      "provenance": [],
      "collapsed_sections": [],
      "toc_visible": true,
      "machine_shape": "hm"
    },
    "kernelspec": {
      "name": "python3",
      "display_name": "Python 3"
    },
    "accelerator": "GPU"
  },
  "cells": [
    {
      "cell_type": "markdown",
      "metadata": {
        "id": "fUgnOavwrlwH",
        "colab_type": "text"
      },
      "source": [
        "CNN for Fake News classification"
      ]
    },
    {
      "cell_type": "code",
      "metadata": {
        "id": "_KkLm-ZG66jS",
        "colab_type": "code",
        "colab": {}
      },
      "source": [
        "from keras.models import Sequential\n",
        "from keras import layers\n",
        "from keras.layers import Convolution2D\n",
        "from keras.layers import MaxPooling2D\n",
        "from keras.layers import Flatten\n",
        "from keras.layers import Dense\n",
        "from keras import regularizers\n",
        "from keras.preprocessing.sequence import pad_sequences\n",
        "from keras.preprocessing.text import Tokenizer\n",
        "import pandas as pd\n",
        "import numpy as np\n",
        "\n",
        "\n"
      ],
      "execution_count": 0,
      "outputs": []
    },
    {
      "cell_type": "code",
      "metadata": {
        "id": "bj-uAiThKMXt",
        "colab_type": "code",
        "colab": {}
      },
      "source": [
        "# parameter adjustments for fake news\n",
        "maxlen = 100\n",
        "max_features = 50000\n",
        "train_glove = True   # Turn on/off for trainnable glove"
      ],
      "execution_count": 0,
      "outputs": []
    },
    {
      "cell_type": "code",
      "metadata": {
        "id": "pXgA_mlf8R0I",
        "colab_type": "code",
        "colab": {}
      },
      "source": [
        "# Reading files\n",
        "train = pd.read_csv(\"/content/drive/My Drive/cmpt400/dataset/train.csv\")\n",
        "valid = pd.read_csv(\"/content/drive/My Drive/cmpt400/dataset/valid.csv\")\n",
        "test = pd.read_csv(\"/content/drive/My Drive/cmpt400/dataset/test.csv\")\n",
        "train_va = pd.concat([train,valid])"
      ],
      "execution_count": 0,
      "outputs": []
    },
    {
      "cell_type": "code",
      "metadata": {
        "id": "4155G07jfIe1",
        "colab_type": "code",
        "outputId": "af5f3241-2aa3-4e70-f815-5a609518b5f0",
        "colab": {
          "base_uri": "https://localhost:8080/",
          "height": 51
        }
      },
      "source": [
        "tokenizer = Tokenizer(num_words=max_features)\n",
        "tokenizer.fit_on_texts(train_va['news'])\n",
        "\n",
        "# tokenize text \n",
        "X_train = tokenizer.texts_to_sequences(train_va['news'])\n",
        "X_test = tokenizer.texts_to_sequences(test['news'])\n",
        "\n",
        "# turn categories into integer representation\n",
        "y_train = pd.factorize(train_va['label'])[0]+1\n",
        "y_test = pd.factorize(test['label'])[0]+1\n",
        "\n",
        "#calculate the total vocabulary size\n",
        "vocab_size = len(tokenizer.word_index) + 1  # Adding 1 because of reserved 0 index\n",
        "\n",
        "# pad each news to maxlen\n",
        "X_train = pad_sequences(X_train, maxlen=maxlen)\n",
        "X_test = pad_sequences(X_test, maxlen=maxlen)\n",
        "\n",
        "n_timesteps, n_features = X_train.shape[0], X_train.shape[1]\n",
        "print(n_timesteps)\n",
        "print(n_features)\n",
        "\n",
        "# print(X_train)\n",
        "\n",
        "# print(X_test)\n",
        "# print(y_train)\n",
        "\n"
      ],
      "execution_count": 48,
      "outputs": [
        {
          "output_type": "stream",
          "text": [
            "11524\n",
            "100\n"
          ],
          "name": "stdout"
        }
      ]
    },
    {
      "cell_type": "code",
      "metadata": {
        "id": "wmDZqr8ReI8T",
        "colab_type": "code",
        "colab": {}
      },
      "source": [
        "import matplotlib.pyplot as plt\n",
        "plt.style.use('ggplot')\n",
        "\n",
        "def plot_history(history):\n",
        "    acc = history.history['acc']\n",
        "    val_acc = history.history['val_acc']\n",
        "    loss = history.history['loss']\n",
        "    val_loss = history.history['val_loss']\n",
        "    x = range(1, len(acc) + 1)\n",
        "\n",
        "    plt.figure(figsize=(12, 5))\n",
        "    plt.subplot(1, 2, 1)\n",
        "    plt.plot(x, acc, 'b', label='Training acc')\n",
        "    plt.plot(x, val_acc, 'r', label='Validation acc')\n",
        "    plt.title('Training and validation accuracy')\n",
        "    plt.legend()\n",
        "    plt.subplot(1, 2, 2)\n",
        "    plt.plot(x, loss, 'b', label='Training loss')\n",
        "    plt.plot(x, val_loss, 'r', label='Validation loss')\n",
        "    plt.title('Training and validation loss')\n",
        "    plt.legend()"
      ],
      "execution_count": 0,
      "outputs": []
    },
    {
      "cell_type": "markdown",
      "metadata": {
        "id": "M7Dt1gxqrh8J",
        "colab_type": "text"
      },
      "source": [
        "Read in glove file\n"
      ]
    },
    {
      "cell_type": "code",
      "metadata": {
        "id": "Q-6gEVTgY-mk",
        "colab_type": "code",
        "colab": {}
      },
      "source": [
        "def txt_create_embedding_matrix(filepath, word_index, embedding_dim):\n",
        "    vocab_size = len(word_index) + 1  # Adding again 1 because of reserved 0 index\n",
        "    embedding_matrix = np.zeros((vocab_size, embedding_dim))\n",
        "\n",
        "    with open(filepath) as f:\n",
        "        for line in f:\n",
        "            word, *vector = line.split()\n",
        "            if word in word_index:\n",
        "                idx = word_index[word] \n",
        "                embedding_matrix[idx] = np.array(\n",
        "                    vector, dtype=np.float32)[:embedding_dim]\n",
        "\n",
        "    return embedding_matrix"
      ],
      "execution_count": 0,
      "outputs": []
    },
    {
      "cell_type": "code",
      "metadata": {
        "id": "VlGtNpzFGrud",
        "colab_type": "code",
        "colab": {}
      },
      "source": [
        "import numpy as np\n",
        "from gensim.models import KeyedVectors\n",
        "def bin_create_embedding_matrix(filepath,word_index,embedding_dim):\n",
        "  vocab_size = len(word_index) + 1  # Adding again 1 because of reserved 0 index\n",
        "  # embedding_matrix = np.zeros((vocab_size, embedding_dim))\n",
        "  # calculate how many word will be used\n",
        "  num_words = min(max_features,vocab_size)\n",
        "  # get a random matrix\n",
        "  embedding_matrix = (np.random.rand(num_words, embedding_dim) - 0.5) / 5.0\n",
        "  embeddings_index = KeyedVectors.load_word2vec_format(filepath, binary=True)\n",
        "\n",
        "  for word, i in word_index.items():\n",
        "    if i >= max_features: continue\n",
        "    if word in embeddings_index:\n",
        "      embeddings_vector = embeddings_index.get_vector(word)\n",
        "      embedding_matrix[i] = embeddings_vector\n",
        "  return embedding_matrix"
      ],
      "execution_count": 0,
      "outputs": []
    },
    {
      "cell_type": "code",
      "metadata": {
        "id": "0Pe8Rx8QeI6r",
        "colab_type": "code",
        "colab": {
          "base_uri": "https://localhost:8080/",
          "height": 88
        },
        "outputId": "4a9506d4-8963-492f-9fd2-cffc9c07e885"
      },
      "source": [
        "#created the glove matrix\n",
        "embedding_dim = 300\n",
        "filepath_news = '/content/drive/My Drive/cmpt400/dataset/GoogleNews-vectors-negative300.bin'\n",
        "filepath_6b = '/content/drive/My Drive/cmpt400/dataset/glove.6B.50d.txt'\n",
        "embedding_matrix = bin_create_embedding_matrix(filepath_news,tokenizer.word_index, embedding_dim)\n",
        "print(len(embedding_matrix))"
      ],
      "execution_count": 52,
      "outputs": [
        {
          "output_type": "stream",
          "text": [
            "/usr/local/lib/python3.6/dist-packages/smart_open/smart_open_lib.py:402: UserWarning: This function is deprecated, use smart_open.open instead. See the migration notes for details: https://github.com/RaRe-Technologies/smart_open/blob/master/README.rst#migrating-to-the-new-open-function\n",
            "  'See the migration notes for details: %s' % _MIGRATION_NOTES_URL\n"
          ],
          "name": "stderr"
        },
        {
          "output_type": "stream",
          "text": [
            "13110\n"
          ],
          "name": "stdout"
        }
      ]
    },
    {
      "cell_type": "code",
      "metadata": {
        "id": "tol7DB0GZuLk",
        "colab_type": "code",
        "outputId": "4d920d5a-cfe7-4539-c144-10c69fef6e0d",
        "colab": {
          "base_uri": "https://localhost:8080/",
          "height": 34
        }
      },
      "source": [
        "# 93% coverage for the glove matrix, not bad\n",
        "nonzero_elements = np.count_nonzero(np.count_nonzero(embedding_matrix, axis=1))\n",
        "print(nonzero_elements / vocab_size)"
      ],
      "execution_count": 53,
      "outputs": [
        {
          "output_type": "stream",
          "text": [
            "1.0\n"
          ],
          "name": "stdout"
        }
      ]
    },
    {
      "cell_type": "code",
      "metadata": {
        "id": "sJUMOrG3fIpC",
        "colab_type": "code",
        "outputId": "20944129-0afe-4a3c-e4cd-3bc35892fd66",
        "colab": {
          "base_uri": "https://localhost:8080/",
          "height": 391
        }
      },
      "source": [
        "from keras.optimizers import Adam\n",
        "from keras.optimizers import SGD\n",
        "from keras.losses import categorical_crossentropy\n",
        "from keras.losses import sparse_categorical_crossentropy\n",
        "train_glove = False\n",
        "model = Sequential()\n",
        "model.add(layers.Embedding(vocab_size, embedding_dim,weights=[embedding_matrix], input_length=maxlen,trainable=train_glove))\n",
        "model.add(layers.Conv1D(filters=128,kernel_size= 2, activation='relu', input_shape=(n_timesteps,n_features)))\n",
        "model.add(layers.Conv1D(filters=128,kernel_size= 3, activation='relu'))\n",
        "model.add(layers.Conv1D(filters=128,kernel_size= 4, activation='relu'))\n",
        "model.add(layers.GlobalMaxPool1D())             # Maybe try concatenate layers by using max and avg\n",
        "# model.add(layers.GlobalAveragePooling1D())        # Averagepooling is easy to get stuck, find local min right away\n",
        "model.add(layers.Dropout(0.8))\n",
        "model.add(layers.Dense(7, activation='softmax'))\n",
        "model.compile(optimizer=SGD(lr=0.001),loss=sparse_categorical_crossentropy,metrics=['accuracy'],)     # 0.001 seems to give the best output\n",
        "model.summary()"
      ],
      "execution_count": 116,
      "outputs": [
        {
          "output_type": "stream",
          "text": [
            "Model: \"sequential_47\"\n",
            "_________________________________________________________________\n",
            "Layer (type)                 Output Shape              Param #   \n",
            "=================================================================\n",
            "embedding_47 (Embedding)     (None, 100, 300)          3933000   \n",
            "_________________________________________________________________\n",
            "conv1d_139 (Conv1D)          (None, 99, 128)           76928     \n",
            "_________________________________________________________________\n",
            "conv1d_140 (Conv1D)          (None, 97, 128)           49280     \n",
            "_________________________________________________________________\n",
            "conv1d_141 (Conv1D)          (None, 94, 128)           65664     \n",
            "_________________________________________________________________\n",
            "global_max_pooling1d_35 (Glo (None, 128)               0         \n",
            "_________________________________________________________________\n",
            "dropout_45 (Dropout)         (None, 128)               0         \n",
            "_________________________________________________________________\n",
            "dense_47 (Dense)             (None, 7)                 903       \n",
            "=================================================================\n",
            "Total params: 4,125,775\n",
            "Trainable params: 192,775\n",
            "Non-trainable params: 3,933,000\n",
            "_________________________________________________________________\n"
          ],
          "name": "stdout"
        }
      ]
    },
    {
      "cell_type": "code",
      "metadata": {
        "id": "OnNwmatwfIxa",
        "colab_type": "code",
        "outputId": "a4145ab0-239a-49bd-8541-c8d6bee0ecf4",
        "colab": {
          "base_uri": "https://localhost:8080/",
          "height": 1000
        }
      },
      "source": [
        "\n",
        "history = model.fit(X_train[:-1286], y_train[:-1286], epochs=20, verbose=2, validation_data=(X_train[-1286:], y_train[-1286:]),batch_size=64)\n",
        "# history = model.fit(X_train[:-1286], y_train[:-1286], epochs=20, verbose=2, validation_data=(X_test, y_test),batch_size=64)\n",
        "loss, accuracy = model.evaluate(X_train, y_train, verbose=2)\n",
        "print(\"Training Accuracy: {:.4f}\".format(accuracy))\n",
        "loss, accuracy = model.evaluate(X_test, y_test, verbose=2)\n",
        "print(\"Testing Accuracy:  {:.4f}\".format(accuracy))\n",
        "plot_history(history)"
      ],
      "execution_count": 117,
      "outputs": [
        {
          "output_type": "stream",
          "text": [
            "Train on 10238 samples, validate on 1286 samples\n",
            "Epoch 1/20\n",
            " - 4s - loss: 1.8312 - acc: 0.1900 - val_loss: 1.7806 - val_acc: 0.1952\n",
            "Epoch 2/20\n",
            " - 1s - loss: 1.7805 - acc: 0.2080 - val_loss: 1.7418 - val_acc: 0.2465\n",
            "Epoch 3/20\n",
            " - 1s - loss: 1.7548 - acc: 0.2176 - val_loss: 1.7334 - val_acc: 0.2449\n",
            "Epoch 4/20\n",
            " - 1s - loss: 1.7394 - acc: 0.2340 - val_loss: 1.7221 - val_acc: 0.2551\n",
            "Epoch 5/20\n",
            " - 1s - loss: 1.7220 - acc: 0.2384 - val_loss: 1.7085 - val_acc: 0.2597\n",
            "Epoch 6/20\n",
            " - 1s - loss: 1.7039 - acc: 0.2482 - val_loss: 1.7251 - val_acc: 0.2512\n",
            "Epoch 7/20\n",
            " - 1s - loss: 1.6732 - acc: 0.2656 - val_loss: 1.7000 - val_acc: 0.2551\n",
            "Epoch 8/20\n",
            " - 1s - loss: 1.6445 - acc: 0.2859 - val_loss: 1.7047 - val_acc: 0.2566\n",
            "Epoch 9/20\n",
            " - 1s - loss: 1.6005 - acc: 0.3013 - val_loss: 1.7257 - val_acc: 0.2535\n",
            "Epoch 10/20\n",
            " - 1s - loss: 1.5546 - acc: 0.3197 - val_loss: 1.7296 - val_acc: 0.2582\n",
            "Epoch 11/20\n",
            " - 1s - loss: 1.4967 - acc: 0.3449 - val_loss: 1.7655 - val_acc: 0.2457\n",
            "Epoch 12/20\n",
            " - 1s - loss: 1.4322 - acc: 0.3905 - val_loss: 1.8269 - val_acc: 0.2519\n",
            "Epoch 13/20\n",
            " - 1s - loss: 1.3716 - acc: 0.4070 - val_loss: 1.9180 - val_acc: 0.2512\n",
            "Epoch 14/20\n",
            " - 1s - loss: 1.3075 - acc: 0.4314 - val_loss: 1.9664 - val_acc: 0.2481\n",
            "Epoch 15/20\n",
            " - 1s - loss: 1.2540 - acc: 0.4594 - val_loss: 2.0464 - val_acc: 0.2566\n",
            "Epoch 16/20\n",
            " - 1s - loss: 1.1859 - acc: 0.4839 - val_loss: 2.2016 - val_acc: 0.2442\n",
            "Epoch 17/20\n",
            " - 1s - loss: 1.1400 - acc: 0.5058 - val_loss: 2.2430 - val_acc: 0.2535\n",
            "Epoch 18/20\n",
            " - 1s - loss: 1.0915 - acc: 0.5208 - val_loss: 2.4361 - val_acc: 0.2387\n",
            "Epoch 19/20\n",
            " - 1s - loss: 1.0192 - acc: 0.5532 - val_loss: 2.5332 - val_acc: 0.2504\n",
            "Epoch 20/20\n",
            " - 1s - loss: 0.9662 - acc: 0.5694 - val_loss: 2.9018 - val_acc: 0.2473\n",
            "Training Accuracy: 0.6460\n",
            "Testing Accuracy:  0.1381\n"
          ],
          "name": "stdout"
        },
        {
          "output_type": "display_data",
          "data": {
            "image/png": "[encoded data removed]",
            "text/plain": [
              "<Figure size 864x360 with 2 Axes>"
            ]
          },
          "metadata": {
            "tags": []
          }
        }
      ]
    },
    {
      "cell_type": "code",
      "metadata": {
        "id": "XGQODW6_Qvof",
        "colab_type": "code",
        "colab": {}
      },
      "source": [
        "# import tensorflow as tf\n",
        "# import random as rn\n",
        "# import os\n",
        "\n",
        "\n",
        "# from tensorflow import set_random_seed\n",
        "# set_random_seed(2)\n",
        "\n",
        "# os.environ['PYTHONHASHSEED'] = '0'\n",
        "\n",
        "# # Setting the seed for numpy-generated random numbers\n",
        "# np.random.seed(37)\n",
        "\n",
        "# # Setting the seed for python random numbers\n",
        "# rn.seed(1254)\n",
        "\n",
        "# # Setting the graph-level random seed.\n",
        "# tf.set_random_seed(89)\n",
        "\n",
        "# from keras import backend as K\n",
        "\n",
        "# session_conf = tf.ConfigProto(\n",
        "#       intra_op_parallelism_threads=1,\n",
        "#       inter_op_parallelism_threads=1)\n",
        "\n",
        "# #Force Tensorflow to use a single thread\n",
        "# sess = tf.Session(graph=tf.get_default_graph(), config=session_conf)\n",
        "\n",
        "# K.set_session(sess)\n",
        "\n",
        "# # Rest of the code follows from here on ..."
      ],
      "execution_count": 0,
      "outputs": []
    }
  ]
}