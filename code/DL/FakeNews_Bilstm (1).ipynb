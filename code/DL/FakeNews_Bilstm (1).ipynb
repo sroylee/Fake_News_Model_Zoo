{
  "nbformat": 4,
  "nbformat_minor": 0,
  "metadata": {
    "colab": {
      "name": "FakeNews_Bilstm.ipynb",
      "provenance": [],
      "collapsed_sections": [
        "h5vR2okYi0Uq"
      ],
      "toc_visible": true,
      "machine_shape": "hm"
    },
    "kernelspec": {
      "name": "python3",
      "display_name": "Python 3"
    },
    "accelerator": "GPU"
  },
  "cells": [
    {
      "cell_type": "markdown",
      "metadata": {
        "id": "fUgnOavwrlwH",
        "colab_type": "text"
      },
      "source": [
        "CNN for Fake News classification"
      ]
    },
    {
      "cell_type": "markdown",
      "metadata": {
        "id": "Odg_0EgD1t03",
        "colab_type": "text"
      },
      "source": [
        "# Importing general usage tools"
      ]
    },
    {
      "cell_type": "code",
      "metadata": {
        "id": "y0auB-Nl-Kyj",
        "colab_type": "code",
        "outputId": "df0258f1-89bd-4de9-9193-633ea67f456b",
        "colab": {
          "base_uri": "https://localhost:8080/",
          "height": 34
        }
      },
      "source": [
        "pip install tqdm --upgrade"
      ],
      "execution_count": 0,
      "outputs": [
        {
          "output_type": "stream",
          "text": [
            "Requirement already up-to-date: tqdm in /usr/local/lib/python3.6/dist-packages (4.43.0)\n"
          ],
          "name": "stdout"
        }
      ]
    },
    {
      "cell_type": "code",
      "metadata": {
        "id": "_KkLm-ZG66jS",
        "colab_type": "code",
        "outputId": "044d9503-f22b-4a1d-9171-410f0f15da4d",
        "colab": {
          "base_uri": "https://localhost:8080/",
          "height": 80
        }
      },
      "source": [
        "from keras.models import Sequential\n",
        "from keras import layers\n",
        "from keras.layers import Convolution2D\n",
        "from keras.layers import MaxPooling2D\n",
        "from keras.layers import Flatten\n",
        "from keras.layers import Dense\n",
        "from keras import regularizers\n",
        "from keras.preprocessing.sequence import pad_sequences\n",
        "from keras.preprocessing.text import Tokenizer\n",
        "import pandas as pd\n",
        "from tqdm import tqdm\n",
        "tqdm.pandas()\n",
        "import numpy as np"
      ],
      "execution_count": 0,
      "outputs": [
        {
          "output_type": "stream",
          "text": [
            "Using TensorFlow backend.\n"
          ],
          "name": "stderr"
        },
        {
          "output_type": "display_data",
          "data": {
            "text/html": [
              "<p style=\"color: red;\">\n",
              "The default version of TensorFlow in Colab will soon switch to TensorFlow 2.x.<br>\n",
              "We recommend you <a href=\"https://www.tensorflow.org/guide/migrate\" target=\"_blank\">upgrade</a> now \n",
              "or ensure your notebook will continue to use TensorFlow 1.x via the <code>%tensorflow_version 1.x</code> magic:\n",
              "<a href=\"https://colab.research.google.com/notebooks/tensorflow_version.ipynb\" target=\"_blank\">more info</a>.</p>\n"
            ],
            "text/plain": [
              "<IPython.core.display.HTML object>"
            ]
          },
          "metadata": {
            "tags": []
          }
        }
      ]
    },
    {
      "cell_type": "markdown",
      "metadata": {
        "id": "mRggnPHc1zau",
        "colab_type": "text"
      },
      "source": [
        "# Hyperparameter Adjustment"
      ]
    },
    {
      "cell_type": "code",
      "metadata": {
        "id": "bj-uAiThKMXt",
        "colab_type": "code",
        "colab": {}
      },
      "source": [
        "# parameter adjustments for fake news\n",
        "maxlen = 100\n",
        "embedding_dim = 300\n",
        "max_features = 50000\n",
        "train_glove = True   # Turn on/off for trainnable glove"
      ],
      "execution_count": 0,
      "outputs": []
    },
    {
      "cell_type": "markdown",
      "metadata": {
        "id": "GeVVMFqz14xd",
        "colab_type": "text"
      },
      "source": [
        "# Reading in the dataset"
      ]
    },
    {
      "cell_type": "code",
      "metadata": {
        "id": "pXgA_mlf8R0I",
        "colab_type": "code",
        "outputId": "b96c8416-fe4f-41e1-936a-6cf2cd1cd2a9",
        "colab": {
          "base_uri": "https://localhost:8080/",
          "height": 68
        }
      },
      "source": [
        "# Reading files\n",
        "import re\n",
        "train = pd.read_csv(\"/content/drive/My Drive/cmpt400/dataset/train.csv\")\n",
        "valid = pd.read_csv(\"/content/drive/My Drive/cmpt400/dataset/valid.csv\")\n",
        "test = pd.read_csv(\"/content/drive/My Drive/cmpt400/dataset/test.csv\")\n",
        "\n",
        "# train['news'] = train['news'].apply(lambda elem: re.sub(r\"(@[A-Za-z0-9]+)|([^0-9A-Za-z \\t])|(\\w+:\\/\\/\\S+)|^rt|http.+?\", \"\", elem))\n",
        "# valid['news'] = valid['news'].apply(lambda elem: re.sub(r\"(@[A-Za-z0-9]+)|([^0-9A-Za-z \\t])|(\\w+:\\/\\/\\S+)|^rt|http.+?\", \"\", elem))\n",
        "# test['news'] = test['news'].apply(lambda elem: re.sub(r\"(@[A-Za-z0-9]+)|([^0-9A-Za-z \\t])|(\\w+:\\/\\/\\S+)|^rt|http.+?\", \"\", elem))\n",
        "\n",
        "print(\"Train shape : \",train.shape)\n",
        "print(\"Valid shape : \",valid.shape)\n",
        "print(\"Test shape : \",test.shape)\n"
      ],
      "execution_count": 0,
      "outputs": [
        {
          "output_type": "stream",
          "text": [
            "Train shape :  (10240, 2)\n",
            "Valid shape :  (1284, 2)\n",
            "Test shape :  (1267, 2)\n"
          ],
          "name": "stdout"
        }
      ]
    },
    {
      "cell_type": "code",
      "metadata": {
        "id": "5bzcXeZA6BMc",
        "colab_type": "code",
        "colab": {}
      },
      "source": [
        "def build_vocab(sentences, verbose =  True):\n",
        "    \"\"\"\n",
        "    :param sentences: list of list of words\n",
        "    :return: dictionary of words and their count\n",
        "    \"\"\"\n",
        "    vocab = {}\n",
        "    for sentence in tqdm(sentences, disable = (not verbose)):\n",
        "        for word in sentence:\n",
        "            try:\n",
        "                vocab[word] += 1\n",
        "            except KeyError:\n",
        "                vocab[word] = 1\n",
        "    return vocab"
      ],
      "execution_count": 0,
      "outputs": []
    },
    {
      "cell_type": "markdown",
      "metadata": {
        "id": "hdNWx0SpMM8-",
        "colab_type": "text"
      },
      "source": [
        "# Data Preprocessing Helper function"
      ]
    },
    {
      "cell_type": "markdown",
      "metadata": {
        "id": "2T8YODXnMRhX",
        "colab_type": "text"
      },
      "source": [
        "##Text punct cleaning"
      ]
    },
    {
      "cell_type": "code",
      "metadata": {
        "id": "J5qIj_94LXSP",
        "colab_type": "code",
        "colab": {}
      },
      "source": [
        "import re\n",
        "def clean_text(x):\n",
        "  x = str(x)\n",
        "  for punct in \"/-\":\n",
        "      x = x.replace(punct, ' ')\n",
        "  for punct in '&':\n",
        "      x = x.replace(punct, f' {punct} ')\n",
        "  for punct in '?!.,\"#$%\\'()*+-/:;<=>@[\\\\]^_`{|}~' + '“”’':\n",
        "      x = x.replace(punct, '')\n",
        "  return x\n"
      ],
      "execution_count": 0,
      "outputs": []
    },
    {
      "cell_type": "markdown",
      "metadata": {
        "id": "zyK4SkQSMVIs",
        "colab_type": "text"
      },
      "source": [
        "##Number cleaning"
      ]
    },
    {
      "cell_type": "code",
      "metadata": {
        "id": "VGdLie5XMLbv",
        "colab_type": "code",
        "colab": {}
      },
      "source": [
        "def clean_numbers(x):\n",
        "  x = re.sub('[0-9]{5,}', '#####', x)\n",
        "  x = re.sub('[0-9]{4}', '####', x)\n",
        "  x = re.sub('[0-9]{3}', '###', x)\n",
        "  x = re.sub('[0-9]{2}', '##', x)\n",
        "  return x"
      ],
      "execution_count": 0,
      "outputs": []
    },
    {
      "cell_type": "markdown",
      "metadata": {
        "id": "C2OhIi7EMbEe",
        "colab_type": "text"
      },
      "source": [
        "##Mis-spelling cleaning"
      ]
    },
    {
      "cell_type": "code",
      "metadata": {
        "id": "OM4JpUyNMd75",
        "colab_type": "code",
        "colab": {}
      },
      "source": [
        "mispell_dict =  {'colour':'color',\n",
        "          'centre':'center',\n",
        "          'didnt':'did not',\n",
        "          'doesnt':'does not',\n",
        "          'isnt':'is not',\n",
        "          'shouldnt':'should not',\n",
        "          'favourite':'favorite',\n",
        "          'travelling':'traveling',\n",
        "          'counselling':'counseling',\n",
        "          'theatre':'theater',\n",
        "          'cancelled':'canceled',\n",
        "          'labour':'labor',\n",
        "          'organisation':'organization',\n",
        "          'wwii':'world war 2',\n",
        "          'citicise':'criticize',\n",
        "          'instagram': 'social medium',\n",
        "          'whatsapp': 'social medium',\n",
        "          'snapchat': 'social medium'\n",
        "          }\n",
        "\n",
        "def _get_mispell(mispell_dict):\n",
        "    mispell_re = re.compile('(%s)' % '|'.join(mispell_dict.keys()))\n",
        "    return mispell_dict, mispell_re\n",
        "\n",
        "mispellings, mispellings_re = _get_mispell(mispell_dict)\n",
        "\n",
        "def replace_typical_misspell(text):\n",
        "    def replace(match):\n",
        "        return mispellings[match.group(0)]\n",
        "\n",
        "    return mispellings_re.sub(replace, text)"
      ],
      "execution_count": 0,
      "outputs": []
    },
    {
      "cell_type": "markdown",
      "metadata": {
        "id": "7USHh_DTOd13",
        "colab_type": "text"
      },
      "source": [
        "##Check for vocabulary coverage "
      ]
    },
    {
      "cell_type": "code",
      "metadata": {
        "id": "4KO4h-AQA0s6",
        "colab_type": "code",
        "colab": {}
      },
      "source": [
        "import operator \n",
        "\n",
        "# i: oov_word_count\n",
        "# k: covered_word_count \n",
        "def check_coverage(vocab,embeddings_index):\n",
        "  a = {}\n",
        "  oov = {}\n",
        "  covered_word_count = 0\n",
        "  oov_word_count = 0\n",
        "  for word in tqdm(vocab):\n",
        "      try:\n",
        "          a[word] = embeddings_index[word]\n",
        "          covered_word_count += vocab[word]\n",
        "      except:\n",
        "\n",
        "          oov[word] = vocab[word]\n",
        "          oov_word_count += vocab[word]\n",
        "          pass\n",
        "  print()\n",
        "  print('Found embeddings for {:.2%} of vocab'.format(len(a) / len(vocab)))\n",
        "  print('Found embeddings for  {:.2%} of all text'.format(covered_word_count / (covered_word_count + oov_word_count)))\n",
        "  sorted_x = sorted(oov.items(), key=operator.itemgetter(1))[::-1]\n",
        "\n",
        "  return sorted_x\n"
      ],
      "execution_count": 0,
      "outputs": []
    },
    {
      "cell_type": "markdown",
      "metadata": {
        "id": "2ZHuXlxYOsZn",
        "colab_type": "text"
      },
      "source": [
        "# Loading glove"
      ]
    },
    {
      "cell_type": "code",
      "metadata": {
        "id": "0Pe8Rx8QeI6r",
        "colab_type": "code",
        "outputId": "fb1c2456-f6e4-4499-fffc-a79cbb085329",
        "colab": {
          "base_uri": "https://localhost:8080/",
          "height": 88
        }
      },
      "source": [
        "#created the glove matrix\n",
        "from gensim.models import KeyedVectors\n",
        "filepath_news = '/content/drive/My Drive/cmpt400/dataset/GoogleNews-vectors-negative300.bin'\n",
        "filepath_6b = '/content/drive/My Drive/cmpt400/dataset/glove.6B.50d.txt'\n",
        "embeddings_index = KeyedVectors.load_word2vec_format(filepath_news, binary=True)\n",
        "print(embeddings_index)"
      ],
      "execution_count": 0,
      "outputs": [
        {
          "output_type": "stream",
          "text": [
            "/usr/local/lib/python3.6/dist-packages/smart_open/smart_open_lib.py:402: UserWarning: This function is deprecated, use smart_open.open instead. See the migration notes for details: https://github.com/RaRe-Technologies/smart_open/blob/master/README.rst#migrating-to-the-new-open-function\n",
            "  'See the migration notes for details: %s' % _MIGRATION_NOTES_URL\n"
          ],
          "name": "stderr"
        },
        {
          "output_type": "stream",
          "text": [
            "<gensim.models.keyedvectors.Word2VecKeyedVectors object at 0x7f0ce1d431d0>\n"
          ],
          "name": "stdout"
        }
      ]
    },
    {
      "cell_type": "markdown",
      "metadata": {
        "id": "ZfYeZGTcYXz5",
        "colab_type": "text"
      },
      "source": [
        "##Preprocess all in one"
      ]
    },
    {
      "cell_type": "code",
      "metadata": {
        "id": "emHpIS_8WJev",
        "colab_type": "code",
        "colab": {}
      },
      "source": [
        "def preprocess(dataset):\n",
        "  dataset = dataset.progress_apply(lambda x: clean_text(x))\n",
        "  dataset = dataset.progress_apply(lambda x: clean_numbers(x))\n",
        "  dataset = dataset.progress_apply(lambda x: replace_typical_misspell(x))\n",
        "  dataset = dataset.progress_apply(lambda x: x.split()).values\n",
        "  to_remove = ['a','to','of','and']\n",
        "  dataset = [[word for word in sentence if not word in to_remove] for sentence in tqdm(dataset)]\n",
        "  \n",
        "  return dataset"
      ],
      "execution_count": 0,
      "outputs": []
    },
    {
      "cell_type": "markdown",
      "metadata": {
        "id": "VY8XnOGfR2kv",
        "colab_type": "text"
      },
      "source": [
        "##Call all preprocess function to clean up the dataset"
      ]
    },
    {
      "cell_type": "code",
      "metadata": {
        "id": "ugqRk9ed6CLx",
        "colab_type": "code",
        "outputId": "8443981e-337c-477a-a555-4694dcc87a58",
        "colab": {
          "base_uri": "https://localhost:8080/",
          "height": 272
        }
      },
      "source": [
        "train['news'] = preprocess(train['news'])\n",
        "valid['news'] = preprocess(valid['news'])\n",
        "test['news'] = preprocess(test['news'])"
      ],
      "execution_count": 0,
      "outputs": [
        {
          "output_type": "stream",
          "text": [
            "100%|██████████| 10240/10240 [00:00<00:00, 111416.66it/s]\n",
            "100%|██████████| 10240/10240 [00:00<00:00, 71600.93it/s]\n",
            "100%|██████████| 10240/10240 [00:00<00:00, 176410.78it/s]\n",
            "100%|██████████| 10240/10240 [00:00<00:00, 333548.24it/s]\n",
            "100%|██████████| 10240/10240 [00:00<00:00, 371655.92it/s]\n",
            "100%|██████████| 1284/1284 [00:00<00:00, 94396.10it/s]\n",
            "100%|██████████| 1284/1284 [00:00<00:00, 57832.59it/s]\n",
            "100%|██████████| 1284/1284 [00:00<00:00, 131829.20it/s]\n",
            "100%|██████████| 1284/1284 [00:00<00:00, 198090.50it/s]\n",
            "100%|██████████| 1284/1284 [00:00<00:00, 237832.82it/s]\n",
            "100%|██████████| 1267/1267 [00:00<00:00, 86530.48it/s]\n",
            "100%|██████████| 1267/1267 [00:00<00:00, 61631.58it/s]\n",
            "100%|██████████| 1267/1267 [00:00<00:00, 131931.06it/s]\n",
            "100%|██████████| 1267/1267 [00:00<00:00, 241971.73it/s]\n",
            "100%|██████████| 1267/1267 [00:00<00:00, 300321.17it/s]\n"
          ],
          "name": "stderr"
        }
      ]
    },
    {
      "cell_type": "markdown",
      "metadata": {
        "id": "g2Ufl1jTYom8",
        "colab_type": "text"
      },
      "source": [
        "Store word occurence as dictionary for quick coverage check"
      ]
    },
    {
      "cell_type": "code",
      "metadata": {
        "id": "pm08S1xBYn-h",
        "colab_type": "code",
        "outputId": "94fc2e2b-9b4c-4d4b-d485-995054fef37c",
        "colab": {
          "base_uri": "https://localhost:8080/",
          "height": 85
        }
      },
      "source": [
        "vocab_train = build_vocab(train['news'])\n",
        "vocab_valid = build_vocab(valid['news'])\n",
        "vocab_test = build_vocab(test['news'])\n",
        "print()\n",
        "# print({k: vocab[k] for k in list(vocab)[:10]})"
      ],
      "execution_count": 0,
      "outputs": [
        {
          "output_type": "stream",
          "text": [
            "100%|██████████| 10240/10240 [00:00<00:00, 239793.61it/s]\n",
            "100%|██████████| 1284/1284 [00:00<00:00, 211046.57it/s]\n",
            "100%|██████████| 1267/1267 [00:00<00:00, 161167.72it/s]"
          ],
          "name": "stderr"
        },
        {
          "output_type": "stream",
          "text": [
            "\n"
          ],
          "name": "stdout"
        },
        {
          "output_type": "stream",
          "text": [
            "\n"
          ],
          "name": "stderr"
        }
      ]
    },
    {
      "cell_type": "markdown",
      "metadata": {
        "id": "VmEpyV10ZuQz",
        "colab_type": "text"
      },
      "source": [
        "## Coverage Result"
      ]
    },
    {
      "cell_type": "code",
      "metadata": {
        "id": "9bbvb5qxF50N",
        "colab_type": "code",
        "outputId": "fd3f0af0-8746-4934-9d7d-5557783ece2d",
        "colab": {
          "base_uri": "https://localhost:8080/",
          "height": 272
        }
      },
      "source": [
        "# check for vocab coverage\n",
        "oov = check_coverage(vocab_train,embeddings_index)\n",
        "print()\n",
        "oov = check_coverage(vocab_valid,embeddings_index)\n",
        "print()\n",
        "oov = check_coverage(vocab_test,embeddings_index)\n",
        "print()"
      ],
      "execution_count": 0,
      "outputs": [
        {
          "output_type": "stream",
          "text": [
            "100%|██████████| 13382/13382 [00:00<00:00, 345395.66it/s]\n",
            "100%|██████████| 4579/4579 [00:00<00:00, 406814.62it/s]\n",
            "100%|██████████| 4555/4555 [00:00<00:00, 427760.22it/s]"
          ],
          "name": "stderr"
        },
        {
          "output_type": "stream",
          "text": [
            "\n",
            "Found embeddings for 96.05% of vocab\n",
            "Found embeddings for  99.61% of all text\n",
            "\n",
            "\n",
            "Found embeddings for 98.23% of vocab\n",
            "Found embeddings for  99.59% of all text\n",
            "\n",
            "\n",
            "Found embeddings for 98.11% of vocab\n",
            "Found embeddings for  99.53% of all text\n",
            "\n"
          ],
          "name": "stdout"
        },
        {
          "output_type": "stream",
          "text": [
            "\n"
          ],
          "name": "stderr"
        }
      ]
    },
    {
      "cell_type": "markdown",
      "metadata": {
        "id": "P0DIEXtKX9Kh",
        "colab_type": "text"
      },
      "source": [
        "## Build Embadding Matrix Helper Function"
      ]
    },
    {
      "cell_type": "code",
      "metadata": {
        "id": "5vrFJPX4X7-m",
        "colab_type": "code",
        "colab": {}
      },
      "source": [
        "def build_matrix(word_index, embedding_index):\n",
        "  vocab_size = len(word_index) + 1  # Adding again 1 because of reserved 0 index\n",
        "  # calculate how many word will be used\n",
        "  num_words = min(max_features,vocab_size)\n",
        "\n",
        "  embedding_matrix = np.zeros((num_words, embedding_dim))\n",
        "  unknown_words = []\n",
        "\n",
        "  for word, i in word_index.items():\n",
        "      if i <= max_features:\n",
        "          try:\n",
        "              embedding_matrix[i] = embedding_index[word]\n",
        "          except KeyError:\n",
        "              try:\n",
        "                  embedding_matrix[i] = embedding_index[word.lower()]\n",
        "              except KeyError:\n",
        "                  try:\n",
        "                      embedding_matrix[i] = embedding_index[word.title()]\n",
        "                  except KeyError:\n",
        "                      unknown_words.append(word)\n",
        "  return embedding_matrix, unknown_words"
      ],
      "execution_count": 0,
      "outputs": []
    },
    {
      "cell_type": "markdown",
      "metadata": {
        "id": "ScGMnb4_16pb",
        "colab_type": "text"
      },
      "source": [
        "# Tokenization"
      ]
    },
    {
      "cell_type": "markdown",
      "metadata": {
        "id": "_QUBdjkViX5h",
        "colab_type": "text"
      },
      "source": [
        "Initialize tokenizer"
      ]
    },
    {
      "cell_type": "code",
      "metadata": {
        "id": "87To4sAVgsVT",
        "colab_type": "code",
        "colab": {}
      },
      "source": [
        "tokenizer = Tokenizer(num_words=max_features, filters='',lower=False)"
      ],
      "execution_count": 0,
      "outputs": []
    },
    {
      "cell_type": "code",
      "metadata": {
        "id": "MhIUfaLTijxQ",
        "colab_type": "code",
        "colab": {}
      },
      "source": [
        "# Tokenizer fitting\n",
        "# print(list(train['news']))\n",
        "tokenizer.fit_on_texts(list(train['news']) + list(valid['news']) + list(test['news']))"
      ],
      "execution_count": 0,
      "outputs": []
    },
    {
      "cell_type": "code",
      "metadata": {
        "id": "KxX7ynXWZ_Y5",
        "colab_type": "code",
        "outputId": "373c901c-172e-43ed-a7d5-c87e06416be2",
        "colab": {
          "base_uri": "https://localhost:8080/",
          "height": 71
        }
      },
      "source": [
        "glove_matrix, unknown_words_glove = build_matrix(tokenizer.word_index,embedding_index=embeddings_index)\n",
        "print(unknown_words_glove)\n",
        "print('dont' in embeddings_index)"
      ],
      "execution_count": 0,
      "outputs": [
        {
          "output_type": "stream",
          "text": [
            "['hasnt', '####json', 'wasnt', 'Kasichs', '#####json', 'Cruzs', '###json', 'Gingrichs', 'SaysPresident', 'Medicares', 'Mandels', 'Klux', 'SaysHillary', 'Marwig', 'TriMets', 'healthcaregov', 'H1N1', 'Parenthoods', 'crimecriminal', 'deficitfederal', 'Securitys', 'Rigells', 'unemployments', 'AbrahamLincoln', 'Zenzinger', 'OShaughnessy', 'Silberkraus', 'SaysBernie', 'donu####t', 'Marilinda', 'AmendmentBan', 'Jan1', 'therell', 'Medicaids', 'Obamacares', 'hewent', 'wasgovernor', 'Beachs', 'DonaldTrump', 'Renaccis', 'Amtraks', 'Ganleys', 'percentincrease', 'Kaines', 'Kloppenburgs', 'NAACPs', 'FreshFromFloridacom', 'Krakows', 'SaysMichael', 'prisonand', 'Alameel', 'shootershould', 'toldevery', 'fiscalcliff', '\\u202aBernie\\u202c', 'Krisemans', 'branchesof', 'SaysRand', 'Paulhas', 'subminimum', 'requirecondom', 'usein', 'riskfor', '##collecting', 'Republicancandidate', 'Aphotograph', 'Democraticcongressional', 'MorganCarroll', 'SaysPeter', 'SaysVirginia', 'RepublicanScott', 'averagein', 'yearThey', 'voteand', 'GradInsurance', 'Congressdecision', 'secondGeorge', 'startedthe', 'FRated', 'areon', 'NClaw', 'males##', 'Cardson', 'Againhats', 'jerseycomeback', 'GovChristie', 'YouthPass', 'Journalsurprisingly', 'caremedicare', 'efficiencytransparency', 'justicegunslegal', 'childrenpoverty', 'rightshomeland', 'securityimmigrationpublic', 'safetytransportationworkers', 'prresident', 'censuscrimeeducationhealth', 'careimmigrationstate', 'budgettaxes', 'rulesfederal', 'budgetmilitary', 'laborstate', 'herserverof', 'Postsaid', 'thatcaptured', 'Anthemcan', 'thatd', 'AIDSdrugs', 'johnkasichs', 'McGintyactually', 'slavesfreedom', 'Muslimsand', 'Comeys', 'carereform', 'SenMark', 'violatedfederal', 'weaspons', 'ParenthoodIt', 'hourproposal', 'payingjust', 'cutby', 'AGallup', 'whenMark', 'Sharpefirst', 'earnonly', 'himselfpay', 'SaysGOP', 'fundingfor', 'SaysTom', 'Republicangovernors', 'Medicaidto', 'retireesdont', 'electionBill', 'beenon', 'economyjob', 'accomplishmentsjobsstimulus', 'DoubleAballpark', 'whilesecretary', 'faultI', 'Ausleys', 'Americanschools', 'inintellectual', 'invasionwrote', 'saysabout', 'terrificand', 'ObamacareYou', 'Menendezs', '###c4', 'theValley', 'Obamacareexchange', 'Hasners', 'Obamacarerepresents', 'haskilled', 'rightsMike', 'Courtdefined', 'quotethe', 'creatingposts', 'urgingCongress', '#####the', 'planthose', 'Dovilla', 'takingBob', 'numbersand', 'proposalputs', 'isleading', 'Hillsboroughs', 'policemens', 'SuperPACs', 'Wasillas', 'acceptingforeign', 'donationsThere', 'animmigrant', 'Denhamhas', 'Clintoninsists', 'Yohoattempts', 'afterfive', 'askedtheDivision', 'toreport', 'Treatyinfringes', 'Sanderss', 'Affairshealth', 'Decaturs', 'SaysJeb', 'downit', 'RhodeMap', 'anight', 'Amiddle', 'screeningand', 'groupFeeding', 'claimsthat', 'blondwomen', 'ownershipdatabase', 'undocumentedimmigrants', 'employeesWe', 'SaysBarack', 'ofIndianas', 'OBriens', 'consided', 'bashedSen', 'createda', 'outundocumented', 'Saysproposal', 'boostteacherpension', 'fundputs', 'Fiorinasaying', 'MarcoRubio', 'u###CThirty', 'insuranceu###D', 'wroteI', 'hesecured', 'debateNot', 'controversyabout', 'wherePresident', 'Britishand', 'GovJayNixon', 'moleg', 'carsgov', 'Brookhavens', 'rugsthey', 'votingto', 'federalbudget', 'surveille', 'candidateTerri', 'numberonein', 'energyresourcesRussia', 'isnumber', 'Obamacars', 'Kitzhabers', 'immigrantspay', 'Saysthere', 'Americanscant', 'withnutritional', '#####The', 'Recoverygov', 'soonerthan', 'Feingolds', 'ObamaPresident', 'securitiesproduct', 'liabilityinterstate', 'Jessens', 'Obamasown', 'MarkKirk', 'StillTooRacist', 'Allencast', 'votefor', '####Bushtax', 'Congressadjourned', 'GunViolence', 'Taxwas', '1one', 'Sotomayors', 'Cuccinellis', 'Villanovas', 'predominantIslamist', 'oncountries', 'Obamashealth', 'potshoot', 'progressivewas', 'forcommunist', 'gainrevenue', 'policiesThe', 'offlexible', 'LibyaMs', 'Factorand', 'byBillOReilly', 'SaysRuben', 'Amajority', 'supportedamnesty', 'showHillary', 'risen##', 'sinceBarack', 'Cruzsaid', 'TheHousebudget', 'Gelbers', 'saidas', 'theinsurance', 'isunder', 'Americanscan', 'ObamaPhones', 'Awlakis', 'HisTV', 'photographedwith', 'Aronbergs', 'fromSolantic', 'agreethere', 'anyoneBUT', 'Wisconsinbut', 'martialed', 'McDonnellsbudget', 'plantakesmoney', 'YouGovcom', 'adulteryand', 'cromnibus', 'Britsare', 'saidSonia', 'ourneighboring', 'startedWarOnPoverty', 'sayingI', 'affecttheir', 'SaysGov', 'Kelodecision', 'aCalifornia', 'economyis', 'asbig', 'Obamatrade', 'at##and', 'Senatebecause', 'Hustleshows', 'ineradicably', 'Mobils', '#####New', 'affirmedSo', 'BRRAG', 'ChrisAbele', 'childrenhealth', 'carenew', 'Republicam', 'bookThe', 'Dealis', 'biographyjob', 'historypunditsabc', 'candidateMarilinda', 'machinevoting', 'macginnitie', '####every', 'wheretheres', 'believeinsocialism', 'Boccieris', 'TheCBO', 'originallyprojected', 'terroristsfriends', 'Stateswere', 'viewISIS', 'SayPresident', 'populationin', 'streetsign', 'saidhewould', 'Ciancis', 'DEQs', 'lifeby', 'longthe', 'FirstEnergys', 'JTrump', 'nearlyone', 'Louisianas', 'McConnellWhat', 'percentlower', 'Says##', 'is3', 'Actthan', 'aredisproportionately', 'percentJon', 'Bonditold', 'UStax', 'Soglins', 'dischargeand', 'thanfind', 'keepsome', 'DCcitycouncilpasseda', 'lawbanninglethalrat', 'DeWines', 'foroil', 'Cruzsname', 'fromCalifornia', 'YorkThe', 'interestspoliticians', 'Austinincluding', 'Jobs4TN', 'violentunder', 'ProjChildSafe', 'Garlandvoted', 'Americanstheyre', '1absentee', 'ISISsends', 'mediamessages', 'Koreahas', 'dozennuclear', 'abillion', 'dollarsout', 'wordsBiden', 'distortedwhat', 'Clintonsposition', 'HillaryClintons', 'McAuliffes', 'collegeshave', 'pollsno', '\\ufeff\\ufeffSince', 'CNBCs', 'budgetjob', 'economyincomejobs', 'energyfederal', 'budgetstimulus', 'educationgovernment', 'regulationjob', 'accomplishmentslaborunions', 'caremedicaid', 'SaysJosh', 'Cordrays', 'Fiorinas', 'neversaid', 'Judithanne', 'regulation##', 'andRubio', 'topfive', 'raisingis', 'HB2threaten', 'Vaticans', 'TribunesEditorial', 'SARSwas', 'wonhealth', 'careand', 'Israelfor', 'HealthCareGov', 'ArkansasAmendment', 'Sununus', 'Dewhursts', 'forstate', 'ifmercury', 'SaysTed', 'Philando', 'Universityhave', 'abill', 'havechanged', 'SaysSenate', 'moneyThey', 'legislationto', 'formammograms', 'McCainis', 'governorwe', 'SaysMichele', 'languageif', 'causingclimate', 'TxDems', 'Moyouve', 'threeblack', 'Cruzswife', 'realDonaldTrump', 'Republicansenators', 'theIslamic', 'estimated##', 'JorgeElorza', 'Obamaexempted', 'Trumphas', 'victimsoutnumbers', 'SaidPresident', 'Goodlattes', 'budgetamendment', 'dowith', 'Saystheres', 'areindividuals', 'SaysPatrick', 'Politifacts', 'truethat', 'countrymost', 'SaysDonald', 'areaswho', 'Brexit', 'aprovision', 'residentsAnd', 'vacancyexcept', 'Texashad', 'officialinquiryon', 'alonewill', 'whetherBarack', 'ISISoil', 'aWHO', 'aneducational', 'candidateJason', 'caretaxes', 'Solyndrahad', 'ofsupporting', 'groundlaw', 'Spinnett', 'Thurbert', 'fewerwars', 'fewerpeople', 'proposedcorporate', 'MittRomneys', 'TheAffordable', 'Actalters', 'SaysGary', 'andso', 'Ayerss', 'areunwilling', 'abortioneven', 'RepMike', 'istheone', 'SaysLoretta', 'aCentral', 'isfighting', 'SaysCongressman', 'wantsillegal', 'collectingSocial', '\\ufeffSays', 'KeystoneXL', 'jobsdid', 'deportationsin', 'deportedin', 'Benacquistos', 'nameresume', 'Dovillas', 'Trainorstill', 'ʺmore', 'stateʺ', 'universitieshave', 'McCollumhas', 'urged###', 'KhizrKhans', 'contraceptions', 'USAFreedom', 'wantbut', 'Raimondos', 'inschool', 'testingwas', 'itselfit', 'becauseBlue', 'hesso', 'calledfast', 'onePalestinian', 'collectionprogram', 'ObamaWeve', 'Republicansagree', 'highthe', 'nationwhich', 'thatHillary', 'Clintonviolated', 'Diegoand', 'drugsby', 'inchains', 'FloridaAnd', 'buildinga', 'from#####', 'Daraprim', 'Whitehouses', 'peopleCordrays', '####Nobody', 'JEREY', 'breakwhen', 'Limberbutt', 'offenderwho', '####law', 'AdvantageRhode', 'lawcaused', 'likethey', 'Perryhas', 'populationyet', 'timeMitt', 'Romneyleft', 'thatll', 'controversalremarks', 'byRev', 'hasblown', 'qualifiedto', 'Jacksonvilles', 'Rustys', 'percentmore', 'HCAhospital', 'thatRepublican', 'Glennhas', 'NJTV', 'Israelisgave', 'gunsales', 'saydont', 'MikeHuckabeecom', 'SaysDemocratic', 'SaysDavid', 'DesJarlaiss', 'Clintonsthe', 'investedin', 'forcedhome', 'JeanneShaheens', 'Baathisized', 'haveweakened', 'Cabinetis', 'capandtradewould', 'Philadelphiaused', 'silentas', 'Obamatook', 'wageNow', 'houseI', 'wereSunday', 'Sayvideo', 'hardshipand', 'Freddiebut', 'BenghaziLibyathe', 'violatesa', 'thatprevents', 'JimRenacci', 'percentofpoor', 'Trumpsfoundation', 'Jebs', 'teachersalary', 'caremedicaremessage', 'carepublic', 'medicaidpoverty', 'jobsstate', 'childreneducationmessage', '####state', 'budgetstatestaxes', 'budgetcounty', 'budgetfederal', 'budgethomeland', 'securityimmigrationstate', 'justicegovernment', 'regulationgunsmarket', 'biographycorrections', 'updatesgays', 'lesbianscampaign', 'opposesthe', 'supportsit', 'ColoradoCare', 'CharlieCrist', 'SaysMaggie', 'creditand', 'thanshotguns', 'lenderand', 'rightsgays', 'lesbiansmarriage', 'updatescriminal', 'justicepublic', 'peopleCarly', 'Tsarnaev', 'Amendmentlanguage', 'Raeses', 'VoterID', 'theCongressional', 'Officehas', 'estimatedevery', 'Say##', 'isgood', 'thatTheyre', 'MetroRails', 'Republicansdont', 'forViagra', 'Pryorcut', 'andhes', 'emmigrate']\n",
            "True\n"
          ],
          "name": "stdout"
        }
      ]
    },
    {
      "cell_type": "code",
      "metadata": {
        "id": "4155G07jfIe1",
        "colab_type": "code",
        "outputId": "ce2004d2-663c-43de-ee12-0c54b782b233",
        "colab": {
          "base_uri": "https://localhost:8080/",
          "height": 68
        }
      },
      "source": [
        "import keras\n",
        "# tokenize text \n",
        "X_train = tokenizer.texts_to_sequences(train['news'])\n",
        "X_valid = tokenizer.texts_to_sequences(valid['news'])\n",
        "X_test = tokenizer.texts_to_sequences(test['news'])\n",
        "\n",
        "# pad each news to maxlen\n",
        "X_train = pad_sequences(X_train, maxlen=maxlen,padding='post',truncating='post')\n",
        "X_valid = pad_sequences(X_valid, maxlen=maxlen,padding='post',truncating='post')\n",
        "X_test = pad_sequences(X_test, maxlen=maxlen,padding='post',truncating='post')\n",
        "\n",
        "y_label_dict = {\"pants-fire\" : 0, \"false\" : 1, \"barely-true\" : 2, \"half-true\" : 3, \"mostly-true\" : 4, \"true\" : 5}\n",
        "print(y_label_dict)\n",
        "\n",
        "# turn categories into integer representation\n",
        "y_train = train['label'].apply(lambda x: y_label_dict[x])\n",
        "y_valid = valid['label'].apply(lambda x: y_label_dict[x])\n",
        "y_test = test['label'].apply(lambda x: y_label_dict[x])\n",
        "\n",
        "y_train = keras.utils.to_categorical(y_train, num_classes=6)\n",
        "y_valid = keras.utils.to_categorical(y_valid, num_classes=6)\n",
        "y_test = keras.utils.to_categorical(y_test, num_classes=6)\n",
        "\n",
        "#calculate the total vocabulary size\n",
        "vocab_size = len(tokenizer.word_index) + 1  # Adding 1 because of reserved 0 index\n",
        "\n",
        "n_timesteps, n_features = X_train.shape[0], X_train.shape[1]\n",
        "print(y_train[0])\n",
        "print(y_test[1])"
      ],
      "execution_count": 0,
      "outputs": [
        {
          "output_type": "stream",
          "text": [
            "{'pants-fire': 0, 'false': 1, 'barely-true': 2, 'half-true': 3, 'mostly-true': 4, 'true': 5}\n",
            "[0. 1. 0. 0. 0. 0.]\n",
            "[0. 1. 0. 0. 0. 0.]\n"
          ],
          "name": "stdout"
        }
      ]
    },
    {
      "cell_type": "markdown",
      "metadata": {
        "id": "WVqjh-Hz2Dym",
        "colab_type": "text"
      },
      "source": [
        "# Plotting Graph Helper Function"
      ]
    },
    {
      "cell_type": "code",
      "metadata": {
        "id": "wmDZqr8ReI8T",
        "colab_type": "code",
        "colab": {}
      },
      "source": [
        "# Plotting graph from results\n",
        "import matplotlib.pyplot as plt\n",
        "plt.style.use('ggplot')\n",
        "\n",
        "def plot_history(history):\n",
        "  acc = history.history['acc']\n",
        "  val_acc = history.history['val_acc']\n",
        "  loss = history.history['loss']\n",
        "  val_loss = history.history['val_loss']\n",
        "  x = range(1, len(acc) + 1)\n",
        "\n",
        "  plt.figure(figsize=(12, 5))\n",
        "  plt.subplot(1, 2, 1)\n",
        "  plt.plot(x, acc, 'b', label='Training acc')\n",
        "  plt.plot(x, val_acc, 'r', label='Validation acc')\n",
        "  plt.title('Training and validation accuracy')\n",
        "  plt.legend()\n",
        "  plt.subplot(1, 2, 2)\n",
        "  plt.plot(x, loss, 'b', label='Training loss')\n",
        "  plt.plot(x, val_loss, 'r', label='Validation loss')\n",
        "  plt.title('Training and validation loss')\n",
        "  plt.legend()"
      ],
      "execution_count": 0,
      "outputs": []
    },
    {
      "cell_type": "markdown",
      "metadata": {
        "id": "h5vR2okYi0Uq",
        "colab_type": "text"
      },
      "source": [
        "# Attention Layer Construction"
      ]
    },
    {
      "cell_type": "code",
      "metadata": {
        "id": "LWL0yYGSi4kW",
        "colab_type": "code",
        "colab": {}
      },
      "source": [
        "from keras import backend as K\n",
        "from keras.engine.topology import Layer\n",
        "from keras import initializers, regularizers, constraints, optimizers, layers\n",
        "\n",
        "class Attention(Layer):\n",
        "  def __init__(self, step_dim,\n",
        "            W_regularizer=None, b_regularizer=None,\n",
        "            W_constraint=None, b_constraint=None,\n",
        "            bias=True, **kwargs):\n",
        "    self.supports_masking = True\n",
        "    self.init = initializers.get('glorot_uniform')\n",
        "    '''\n",
        "    Regularizers allow to apply penalties on layer parameters or layer activity during optimization.\n",
        "    These penalties are incorporated in the loss function that the network optimizes.\n",
        "    '''\n",
        "    self.W_regularizer = regularizers.get(W_regularizer)\n",
        "    self.b_regularizer = regularizers.get(b_regularizer)\n",
        "\n",
        "    self.W_constraint = constraints.get(W_constraint)\n",
        "    self.b_constraint = constraints.get(b_constraint)\n",
        "\n",
        "    self.bias = bias\n",
        "    self.step_dim = step_dim\n",
        "    self.features_dim = 0\n",
        "    super(Attention, self).__init__(**kwargs)\n",
        "\n",
        "  def build(self, input_shape):\n",
        "    assert len(input_shape) == 3\n",
        "\n",
        "    self.W = self.add_weight((input_shape[-1],),\n",
        "                            initializer=self.init,\n",
        "                            name='{}_W'.format(self.name),\n",
        "                            regularizer=self.W_regularizer,\n",
        "                            constraint=self.W_constraint)\n",
        "    self.features_dim = input_shape[-1]\n",
        "\n",
        "    if self.bias:\n",
        "        self.b = self.add_weight((input_shape[1],),\n",
        "                                initializer='zero',\n",
        "                                name='{}_b'.format(self.name),\n",
        "                                regularizer=self.b_regularizer,\n",
        "                                constraint=self.b_constraint)\n",
        "    else:\n",
        "        self.b = None\n",
        "\n",
        "    self.built = True\n",
        "\n",
        "  def compute_mask(self, input, input_mask=None):\n",
        "    return None\n",
        "\n",
        "  def call(self, x, mask=None):\n",
        "    features_dim = self.features_dim\n",
        "    step_dim = self.step_dim\n",
        "\n",
        "    eij = K.reshape(K.dot(K.reshape(x, (-1, features_dim)),\n",
        "                    K.reshape(self.W, (features_dim, 1))), (-1, step_dim))\n",
        "\n",
        "    if self.bias:\n",
        "        eij += self.b\n",
        "\n",
        "    eij = K.tanh(eij)\n",
        "\n",
        "    a = K.exp(eij)\n",
        "\n",
        "    if mask is not None:\n",
        "        a *= K.cast(mask, K.floatx())\n",
        "\n",
        "    a /= K.cast(K.sum(a, axis=1, keepdims=True) + K.epsilon(), K.floatx())\n",
        "\n",
        "    a = K.expand_dims(a)\n",
        "    weighted_input = x * a\n",
        "    return K.sum(weighted_input, axis=1)\n",
        "\n",
        "  def compute_output_shape(self, input_shape):\n",
        "    return input_shape[0],  self.features_dim"
      ],
      "execution_count": 0,
      "outputs": []
    },
    {
      "cell_type": "markdown",
      "metadata": {
        "id": "HtkKzprP2Nb5",
        "colab_type": "text"
      },
      "source": [
        "# Creating Model\n"
      ]
    },
    {
      "cell_type": "code",
      "metadata": {
        "id": "1XEFGf12k3GO",
        "colab_type": "code",
        "colab": {}
      },
      "source": [
        "from keras.models import Sequential\n",
        "from keras.models import Model\n",
        "from keras import layers as L\n",
        "from keras.optimizers import SGD,RMSprop,Adam\n",
        "from keras.layers import Convolution2D, Dense, Flatten, LSTM, Bidirectional, Dropout, CuDNNLSTM, Lambda, dot, Activation, concatenate\n",
        "from keras.losses import categorical_crossentropy\n",
        "from keras.losses import sparse_categorical_crossentropy\n",
        "from keras.callbacks import ModelCheckpoint"
      ],
      "execution_count": 0,
      "outputs": []
    },
    {
      "cell_type": "markdown",
      "metadata": {
        "id": "n-dI2ICpnzas",
        "colab_type": "text"
      },
      "source": [
        "## Model Function"
      ]
    },
    {
      "cell_type": "code",
      "metadata": {
        "id": "sJUMOrG3fIpC",
        "colab_type": "code",
        "colab": {}
      },
      "source": [
        "# from keras.models import Sequential\n",
        "# from keras import layers,optimizers\n",
        "# from keras.optimizers import SGD,RMSprop,Adam\n",
        "# from keras.layers import Convolution2D,Dense,MaxPooling1D,Flatten,LSTM,Bidirectional,Dropout,CuDNNLSTM\n",
        "# from keras.losses import categorical_crossentropy\n",
        "# from keras.losses import sparse_categorical_crossentropy\n",
        "# from keras.callbacks import ModelCheckpoint\n",
        "\n",
        "# train_glove = True\n",
        "# sgd = SGD(lr=0.025, clipvalue=0.3, nesterov=True)\n",
        "# adam = Adam(lr=0.000075, beta_1=0.9, beta_2=0.999, epsilon=None, decay=0.0, amsgrad=False)\n",
        "\n",
        "# model = Sequential()\n",
        "# model.add(layers.Embedding(vocab_size, embedding_dim,weights=[glove_matrix], input_length=maxlen,trainable=train_glove))\n",
        "# model.add(Dropout(0.8))\n",
        "# # initialising the RNN\n",
        "# # number of units-memory units, complex problem requir more nerons.\n",
        "# # return sequence-mutiple LSM layers, set to True to receive values. Default value is False\n",
        "# # dimensions-it takes in count of original dataset. This case only include timestep and indicators.\n",
        "\n",
        "# # First LSTM layer\n",
        "# model.add(Bidirectional(CuDNNLSTM(units = 75,return_sequences = True, input_shape=(n_timesteps,n_features))))\n",
        "# # model.add(Dropout(0.4))\n",
        "\n",
        "# # model.add(Bidirectional(CuDNNLSTM(units = 100,return_sequences = True)))\n",
        "# # # model.add(Dropout(0.4))\n",
        "\n",
        "# # Fourth LSTM layer, last layer no need to return, use default return sequence value false.\n",
        "# model.add(Bidirectional(CuDNNLSTM(units = 75)))\n",
        "\n",
        "# model.add(layers.Dense(64, activation='relu'))\n",
        "\n",
        "# model.add(layers.Dense(32, activation='relu'))\n",
        "\n",
        "# model.add(layers.Dense(6, activation='softmax'))\n",
        "\n",
        "# # model.compile(optimizer=RMSprop(lr=0.001),loss=sparse_categorical_crossentropy,metrics=['accuracy'],)     # 0.001 seems to give the best output\n",
        "# model.compile(optimizer=sgd,loss='categorical_crossentropy',metrics=['accuracy'])\n",
        "# model.summary()\n",
        "\n",
        "# cp=ModelCheckpoint('model_fake',monitor='acc',verbose=1, save_best_only=True, mode='max')"
      ],
      "execution_count": 0,
      "outputs": []
    },
    {
      "cell_type": "code",
      "metadata": {
        "id": "lo9bxBzHHxiF",
        "colab_type": "code",
        "colab": {}
      },
      "source": [
        "def attention_3d_block(hidden_states):\n",
        "    # @author: felixhao28.\n",
        "    # hidden_states.shape = (batch_size, time_steps, hidden_size)\n",
        "    hidden_size = int(hidden_states.shape[2])\n",
        "    # Inside dense layer\n",
        "    #              hidden_states            dot               W            =>           score_first_part\n",
        "    # (batch_size, time_steps, hidden_size) dot (hidden_size, hidden_size) => (batch_size, time_steps, hidden_size)\n",
        "    # W is the trainable weight matrix of attention Luong's multiplicative style score\n",
        "    score_first_part = Dense(hidden_size, use_bias=False, name='attention_score_vec')(hidden_states)\n",
        "    #            score_first_part           dot        last_hidden_state     => attention_weights\n",
        "    # (batch_size, time_steps, hidden_size) dot   (batch_size, hidden_size)  => (batch_size, time_steps)\n",
        "    h_t = Lambda(lambda x: x[:, -1, :], output_shape=(hidden_size,), name='last_hidden_state')(hidden_states)\n",
        "    score = dot([score_first_part, h_t], [2, 1], name='attention_score')\n",
        "    attention_weights = Activation('softmax', name='attention_weight')(score)\n",
        "    # (batch_size, time_steps, hidden_size) dot (batch_size, time_steps) => (batch_size, hidden_size)\n",
        "    context_vector = dot([hidden_states, attention_weights], [1, 1], name='context_vector')\n",
        "    pre_activation = concatenate([context_vector, h_t], name='attention_output')\n",
        "    attention_vector = Dense(128, use_bias=False, activation='tanh', name='attention_vector')(pre_activation)\n",
        "    return attention_vector"
      ],
      "execution_count": 0,
      "outputs": []
    },
    {
      "cell_type": "code",
      "metadata": {
        "id": "ruj5LMS0nxdv",
        "colab_type": "code",
        "colab": {}
      },
      "source": [
        "# calling this funciton to cerate a model\n",
        "train_glove = True\n",
        "sgd = SGD(lr=0.025, clipvalue=0.3, nesterov=True)\n",
        "adam = Adam(lr=0.000075, beta_1=0.9, beta_2=0.999, epsilon=None, decay=0.0, amsgrad=False)\n",
        "\n",
        "def build_model(verbose = True, compile = True):\n",
        "  sequence_input = L.Input(shape=(maxlen,), dtype='int32')\n",
        "  embedding_layer = L.Embedding(vocab_size,\n",
        "                  embedding_dim,\n",
        "                  weights=[glove_matrix],\n",
        "                  input_length=maxlen,\n",
        "                  trainable=train_glove)\n",
        "  x = embedding_layer(sequence_input)\n",
        "  x = L.Dropout(0.5)(x)\n",
        "\n",
        "  # First LSTM layer\n",
        "  x = Bidirectional(CuDNNLSTM(units = 100,return_sequences = True, input_shape=(n_timesteps,n_features)))(x)\n",
        "  # LSTM layer, last layer no need to return, use default return sequence value false.\n",
        "  x = Bidirectional(CuDNNLSTM(units = 100,return_sequences = True))(x)\n",
        "  # Construct concat layers combine: attention globalavg,globalmax\n",
        "  att = Attention(maxlen)(x)\n",
        "\n",
        "  avg_pool1 = L.GlobalAveragePooling1D()(x)\n",
        "  max_pool1 = L.GlobalMaxPooling1D()(x)\n",
        "\n",
        "  x = L.concatenate([att, avg_pool1, max_pool1])\n",
        "  # x = L.concatenate([avg_pool1, max_pool1])\n",
        "\n",
        "  x = L.Dense(64, activation='relu')(x)\n",
        "\n",
        "  x = L.Dense(32, activation='relu')(x)\n",
        "\n",
        "  preds = L.Dense(6, activation='softmax')(x)\n",
        "\n",
        "  model = Model(sequence_input, preds)\n",
        "  if verbose:\n",
        "    model.summary()\n",
        "  if compile:\n",
        "    model.compile(optimizer=adam,loss='categorical_crossentropy',metrics=['accuracy'])\n",
        "  return model"
      ],
      "execution_count": 0,
      "outputs": []
    },
    {
      "cell_type": "markdown",
      "metadata": {
        "id": "KhKb7aLb2Sq1",
        "colab_type": "text"
      },
      "source": [
        "# Predicting\n"
      ]
    },
    {
      "cell_type": "markdown",
      "metadata": {
        "id": "OnqHboSmu1pQ",
        "colab_type": "text"
      },
      "source": [
        "## Make Model"
      ]
    },
    {
      "cell_type": "code",
      "metadata": {
        "id": "bgqlXeHGu05r",
        "colab_type": "code",
        "outputId": "be786fcd-aad0-49be-b579-5796bdff52cf",
        "colab": {
          "base_uri": "https://localhost:8080/",
          "height": 1000
        }
      },
      "source": [
        "cp=ModelCheckpoint('model_fake',monitor='acc',verbose=1, save_best_only=True, mode='max')\n",
        "model = build_model()"
      ],
      "execution_count": 0,
      "outputs": [
        {
          "output_type": "stream",
          "text": [
            "WARNING:tensorflow:From /usr/local/lib/python3.6/dist-packages/keras/backend/tensorflow_backend.py:66: The name tf.get_default_graph is deprecated. Please use tf.compat.v1.get_default_graph instead.\n",
            "\n",
            "WARNING:tensorflow:From /usr/local/lib/python3.6/dist-packages/keras/backend/tensorflow_backend.py:541: The name tf.placeholder is deprecated. Please use tf.compat.v1.placeholder instead.\n",
            "\n",
            "WARNING:tensorflow:From /usr/local/lib/python3.6/dist-packages/keras/backend/tensorflow_backend.py:4432: The name tf.random_uniform is deprecated. Please use tf.random.uniform instead.\n",
            "\n",
            "WARNING:tensorflow:From /usr/local/lib/python3.6/dist-packages/keras/backend/tensorflow_backend.py:190: The name tf.get_default_session is deprecated. Please use tf.compat.v1.get_default_session instead.\n",
            "\n",
            "WARNING:tensorflow:From /usr/local/lib/python3.6/dist-packages/keras/backend/tensorflow_backend.py:197: The name tf.ConfigProto is deprecated. Please use tf.compat.v1.ConfigProto instead.\n",
            "\n",
            "WARNING:tensorflow:From /usr/local/lib/python3.6/dist-packages/keras/backend/tensorflow_backend.py:203: The name tf.Session is deprecated. Please use tf.compat.v1.Session instead.\n",
            "\n",
            "WARNING:tensorflow:From /usr/local/lib/python3.6/dist-packages/keras/backend/tensorflow_backend.py:207: The name tf.global_variables is deprecated. Please use tf.compat.v1.global_variables instead.\n",
            "\n",
            "WARNING:tensorflow:From /usr/local/lib/python3.6/dist-packages/keras/backend/tensorflow_backend.py:216: The name tf.is_variable_initialized is deprecated. Please use tf.compat.v1.is_variable_initialized instead.\n",
            "\n",
            "WARNING:tensorflow:From /usr/local/lib/python3.6/dist-packages/keras/backend/tensorflow_backend.py:223: The name tf.variables_initializer is deprecated. Please use tf.compat.v1.variables_initializer instead.\n",
            "\n",
            "WARNING:tensorflow:From /usr/local/lib/python3.6/dist-packages/keras/backend/tensorflow_backend.py:148: The name tf.placeholder_with_default is deprecated. Please use tf.compat.v1.placeholder_with_default instead.\n",
            "\n",
            "WARNING:tensorflow:From /usr/local/lib/python3.6/dist-packages/keras/backend/tensorflow_backend.py:3733: calling dropout (from tensorflow.python.ops.nn_ops) with keep_prob is deprecated and will be removed in a future version.\n",
            "Instructions for updating:\n",
            "Please use `rate` instead of `keep_prob`. Rate should be set to `rate = 1 - keep_prob`.\n",
            "Model: \"model_1\"\n",
            "__________________________________________________________________________________________________\n",
            "Layer (type)                    Output Shape         Param #     Connected to                     \n",
            "==================================================================================================\n",
            "input_1 (InputLayer)            (None, 100)          0                                            \n",
            "__________________________________________________________________________________________________\n",
            "embedding_1 (Embedding)         (None, 100, 300)     4464900     input_1[0][0]                    \n",
            "__________________________________________________________________________________________________\n",
            "dropout_1 (Dropout)             (None, 100, 300)     0           embedding_1[0][0]                \n",
            "__________________________________________________________________________________________________\n",
            "bidirectional_1 (Bidirectional) (None, 100, 200)     321600      dropout_1[0][0]                  \n",
            "__________________________________________________________________________________________________\n",
            "bidirectional_2 (Bidirectional) (None, 100, 200)     241600      bidirectional_1[0][0]            \n",
            "__________________________________________________________________________________________________\n",
            "attention_1 (Attention)         (None, 200)          300         bidirectional_2[0][0]            \n",
            "__________________________________________________________________________________________________\n",
            "global_average_pooling1d_1 (Glo (None, 200)          0           bidirectional_2[0][0]            \n",
            "__________________________________________________________________________________________________\n",
            "global_max_pooling1d_1 (GlobalM (None, 200)          0           bidirectional_2[0][0]            \n",
            "__________________________________________________________________________________________________\n",
            "concatenate_1 (Concatenate)     (None, 600)          0           attention_1[0][0]                \n",
            "                                                                 global_average_pooling1d_1[0][0] \n",
            "                                                                 global_max_pooling1d_1[0][0]     \n",
            "__________________________________________________________________________________________________\n",
            "dense_1 (Dense)                 (None, 64)           38464       concatenate_1[0][0]              \n",
            "__________________________________________________________________________________________________\n",
            "dense_2 (Dense)                 (None, 32)           2080        dense_1[0][0]                    \n",
            "__________________________________________________________________________________________________\n",
            "dense_3 (Dense)                 (None, 6)            198         dense_2[0][0]                    \n",
            "==================================================================================================\n",
            "Total params: 5,069,142\n",
            "Trainable params: 5,069,142\n",
            "Non-trainable params: 0\n",
            "__________________________________________________________________________________________________\n",
            "WARNING:tensorflow:From /usr/local/lib/python3.6/dist-packages/keras/optimizers.py:793: The name tf.train.Optimizer is deprecated. Please use tf.compat.v1.train.Optimizer instead.\n",
            "\n",
            "WARNING:tensorflow:From /usr/local/lib/python3.6/dist-packages/keras/backend/tensorflow_backend.py:3576: The name tf.log is deprecated. Please use tf.math.log instead.\n",
            "\n"
          ],
          "name": "stdout"
        }
      ]
    },
    {
      "cell_type": "code",
      "metadata": {
        "id": "OnNwmatwfIxa",
        "colab_type": "code",
        "outputId": "cec7629a-683c-40f9-d476-ccfb4b0d1c09",
        "colab": {
          "base_uri": "https://localhost:8080/",
          "height": 1000
        }
      },
      "source": [
        "history = model.fit(X_train, y_train, epochs=10, verbose=1, validation_data=(X_valid, y_valid),batch_size=64,callbacks=[cp])\n",
        "loss, accuracy = model.evaluate(X_valid, y_valid, verbose=2)\n",
        "print(\"Valid Accuracy: {:.4f}\".format(accuracy))\n",
        "loss, accuracy = model.evaluate(X_test, y_test, verbose=2)\n",
        "print(\"Testing Accuracy:  {:.4f}\".format(accuracy))\n",
        "plot_history(history)"
      ],
      "execution_count": 0,
      "outputs": [
        {
          "output_type": "stream",
          "text": [
            "WARNING:tensorflow:From /usr/local/lib/python3.6/dist-packages/tensorflow_core/python/ops/math_grad.py:1424: where (from tensorflow.python.ops.array_ops) is deprecated and will be removed in a future version.\n",
            "Instructions for updating:\n",
            "Use tf.where in 2.0, which has the same broadcast rule as np.where\n",
            "WARNING:tensorflow:From /usr/local/lib/python3.6/dist-packages/keras/backend/tensorflow_backend.py:1033: The name tf.assign_add is deprecated. Please use tf.compat.v1.assign_add instead.\n",
            "\n",
            "WARNING:tensorflow:From /usr/local/lib/python3.6/dist-packages/keras/backend/tensorflow_backend.py:1020: The name tf.assign is deprecated. Please use tf.compat.v1.assign instead.\n",
            "\n",
            "Train on 10240 samples, validate on 1284 samples\n",
            "Epoch 1/10\n",
            "10240/10240 [==============================] - 13s 1ms/step - loss: 1.7688 - acc: 0.1954 - val_loss: 1.7579 - val_acc: 0.2056\n",
            "\n",
            "Epoch 00001: acc improved from -inf to 0.19541, saving model to model_fake\n",
            "Epoch 2/10\n",
            "10240/10240 [==============================] - 6s 574us/step - loss: 1.7537 - acc: 0.2144 - val_loss: 1.7510 - val_acc: 0.2383\n",
            "\n",
            "Epoch 00002: acc improved from 0.19541 to 0.21436, saving model to model_fake\n",
            "Epoch 3/10\n",
            "10240/10240 [==============================] - 6s 575us/step - loss: 1.7457 - acc: 0.2347 - val_loss: 1.7387 - val_acc: 0.2360\n",
            "\n",
            "Epoch 00003: acc improved from 0.21436 to 0.23467, saving model to model_fake\n",
            "Epoch 4/10\n",
            "10240/10240 [==============================] - 6s 576us/step - loss: 1.7292 - acc: 0.2437 - val_loss: 1.7209 - val_acc: 0.2547\n",
            "\n",
            "Epoch 00004: acc improved from 0.23467 to 0.24375, saving model to model_fake\n",
            "Epoch 5/10\n",
            "10240/10240 [==============================] - 6s 579us/step - loss: 1.7105 - acc: 0.2521 - val_loss: 1.7075 - val_acc: 0.2547\n",
            "\n",
            "Epoch 00005: acc improved from 0.24375 to 0.25205, saving model to model_fake\n",
            "Epoch 6/10\n",
            "10240/10240 [==============================] - 6s 581us/step - loss: 1.6880 - acc: 0.2700 - val_loss: 1.7039 - val_acc: 0.2648\n",
            "\n",
            "Epoch 00006: acc improved from 0.25205 to 0.27002, saving model to model_fake\n",
            "Epoch 7/10\n",
            "10240/10240 [==============================] - 6s 580us/step - loss: 1.6724 - acc: 0.2784 - val_loss: 1.7016 - val_acc: 0.2555\n",
            "\n",
            "Epoch 00007: acc improved from 0.27002 to 0.27842, saving model to model_fake\n",
            "Epoch 8/10\n",
            "10240/10240 [==============================] - 6s 582us/step - loss: 1.6466 - acc: 0.2913 - val_loss: 1.6925 - val_acc: 0.2586\n",
            "\n",
            "Epoch 00008: acc improved from 0.27842 to 0.29131, saving model to model_fake\n",
            "Epoch 9/10\n",
            "10240/10240 [==============================] - 6s 579us/step - loss: 1.6272 - acc: 0.3099 - val_loss: 1.7150 - val_acc: 0.2407\n",
            "\n",
            "Epoch 00009: acc improved from 0.29131 to 0.30986, saving model to model_fake\n",
            "Epoch 10/10\n",
            "10240/10240 [==============================] - 6s 582us/step - loss: 1.6071 - acc: 0.3208 - val_loss: 1.7147 - val_acc: 0.2555\n",
            "\n",
            "Epoch 00010: acc improved from 0.30986 to 0.32080, saving model to model_fake\n",
            "Valid Accuracy: 0.2555\n",
            "Testing Accuracy:  0.2770\n"
          ],
          "name": "stdout"
        },
        {
          "output_type": "display_data",
          "data": {
            "image/png": "[encoded data removed]",
            "text/plain": [
              "<Figure size 864x360 with 2 Axes>"
            ]
          },
          "metadata": {
            "tags": []
          }
        }
      ]
    }
  ]
}